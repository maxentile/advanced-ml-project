{
 "metadata": {
  "name": "Random-autoencoder-ensembles"
 },
 "nbformat": 3,
 "nbformat_minor": 0,
 "worksheets": [
  {
   "cells": [
    {
     "cell_type": "code",
     "collapsed": false,
     "input": "import cPickle,gzip,os,sys,time\ndataset = 'mnist.pkl.gz'\nf = gzip.open(dataset, 'rb')\ntrain_set, valid_set, test_set = cPickle.load(f)\nf.close()",
     "language": "python",
     "metadata": {},
     "outputs": [],
     "prompt_number": 1
    },
    {
     "cell_type": "code",
     "collapsed": false,
     "input": "train_set[0].shape",
     "language": "python",
     "metadata": {},
     "outputs": [
      {
       "metadata": {},
       "output_type": "pyout",
       "prompt_number": 2,
       "text": "(50000, 784)"
      }
     ],
     "prompt_number": 2
    },
    {
     "cell_type": "code",
     "collapsed": false,
     "input": "import numpy as np\nimport numpy.random as npr\nimport pylab as pl\npl.rcParams['font.family'] = 'serif'\n%matplotlib inline\nfrom sklearn.decomposition import PCA\nfrom sklearn import neighbors",
     "language": "python",
     "metadata": {},
     "outputs": [],
     "prompt_number": 3
    },
    {
     "cell_type": "code",
     "collapsed": false,
     "input": "def one_nn_baseline(X,Y):\n    one_nn = neighbors.kneighbors_graph(X,2)\n    inds = np.zeros(len(X),dtype=int)\n    for i in range(len(X)):\n        inds[i] = [ind for ind in one_nn[i].indices if ind != i][0]\n    preds = Y[inds]\n    return 1.0*sum(preds==Y) / len(Y)",
     "language": "python",
     "metadata": {},
     "outputs": [],
     "prompt_number": 4
    },
    {
     "cell_type": "code",
     "collapsed": false,
     "input": "one_nn_baseline(train_set[0][:5000],train_set[1][:5000])",
     "language": "python",
     "metadata": {},
     "outputs": [
      {
       "metadata": {},
       "output_type": "pyout",
       "prompt_number": 5,
       "text": "0.9462"
      }
     ],
     "prompt_number": 5
    },
    {
     "cell_type": "code",
     "collapsed": false,
     "input": "sigmoid = lambda x : 1.0 / (1.0 + np.exp(-x))\nclass MLAutoencoder():\n    def __init__(self,layer_dims=[32,16,8,4,2,4,8,16,32]):\n        self.layer_dims = layer_dims\n        self.W = []\n        for i in range(1,len(layer_dims)):\n            self.W.append(npr.randn(layer_dims[i-1],layer_dims[i]))\n        self.num_params = sum([np.prod(w.shape) for w in self.W])\n        self.bottleneck = np.argmin(np.array(layer_dims))\n        \n    def mats_to_vec(self,W):\n        w_vecs = []\n        for w in W:\n            w_vecs.append(np.reshape(w,np.prod(w.shape)))\n        return np.hstack(w_vecs)\n    \n    def vec_to_mats(self,w_vecs):\n        ind = 0\n        W = []\n        for i in range(len(self.W)):\n            size = np.prod(self.W[i].shape)\n            W.append(np.reshape(w_vecs[ind:ind+size],self.W[i].shape))\n            ind += size\n        return W\n    \n    def predict(self,X):\n        def predict_one(x):\n            L = x\n            for w in self.W:\n                L = sigmoid(L.dot(w))\n            return L\n        \n        if len(X.shape) > 1:\n            y = np.zeros(X.shape)\n            for i,x in enumerate(X):\n                y[i] = predict_one(x)\n        else:\n            y = predict_one(X)\n        return y\n\n    def transform(self,X):\n        def transform_one(x):\n            L = x\n            for i in range(self.bottleneck):\n                L = sigmoid(L.dot(self.W[i]))\n            return L\n        \n        if len(X.shape) > 1:\n            y = np.zeros((len(X),self.layer_dims[self.bottleneck]))\n            for i,x in enumerate(X):\n                y[i] = transform_one(x)\n        else:\n            y = transform_one(X)\n        return y\n        \n    def loss(self,y,y_pred):\n        return np.sum(abs(y-y_pred))\n    \n    def score(self,X):\n        X_pred = self.predict(X)\n        assert(X_pred.shape == X.shape)\n        \n        return sum([self.loss(pred,truth) for (pred,truth) in zip(X_pred, X)]) \n    \n    def gradient(self,func,x0,h=0.0001):\n        x0 = np.array(x0)#,dtype=float)\n        y = func(x0)\n        deriv = np.zeros(len(x0))\n        for i in range(len(x0)):\n            x = np.array(x0)\n            x[i] += h\n            deriv[i] = (func(x) - y)/h\n        return deriv\n    \n    def vec_score(self,w,X):\n        self.W = self.vec_to_mats(w)\n        return self.score(X)\n\n    def train(self,X_,batch_size=20,epochs=10,learning_rate=0.1,cooling=False):\n        def report(counter,epoch):\n            status = \"Epoch {1} loss: {0:.3f}\".format(self.score(X_),epoch)\n            print(status)\n            X_r = self.transform(X_)\n            pl.scatter(X_r[:,0],X_r[:,1],c=Y,linewidth=0)\n            pl.xlim((0,1))\n            pl.ylim((0,1))\n            pl.title(status)\n            pl.savefig('ae/{0}.jpg'.format(counter))\n            pl.close()\n            \n            if X_.shape[1] == 3:\n                X_r = self.predict(X_)\n                fig = pl.figure()\n                ax = Axes3D(fig)\n                \n                #pl.xlim((0,1))\n                #pl.ylim((0,1))\n                #ax.zlim((0,1))\n                ax.scatter(X_r[:,0],X_r[:,1],X_r[:,2],c=Y)\n                pl.savefig('ae/reconstruction-{0}.jpg'.format(counter))\n                pl.close()\n        \n        n = len(X_) /batch_size\n        w = self.mats_to_vec(self.W)\n        \n        X = X_.copy()\n        \n        counter = 0\n        report(counter,0)\n        counter += 1\n        \n        if cooling:\n            start_cooling = 100\n            delta = learning_rate / (epochs - start_cooling)\n        \n        for t in range(epochs):\n            npr.shuffle(X)\n            \n            if cooling and t > start_cooling:\n                #learning_rate -= delta\n                learning_rate *= 0.95\n            \n            for i in range(n):\n                batch_X = X[i*batch_size:(i+1)*batch_size]\n                loss_func = lambda w : self.vec_score(w,batch_X)\n                w -= learning_rate * self.gradient(loss_func,w)\n            report(counter,t+1)\n            counter +=1",
     "language": "python",
     "metadata": {},
     "outputs": [],
     "prompt_number": 10
    },
    {
     "cell_type": "code",
     "collapsed": false,
     "input": "input_dim = 784\nforward_layers = [input_dim/(2**n) for n in range(10) if input_dim/(2**n) > 1]\nif forward_layers[-1] != 2:\n    forward_layers.append(2)\nforward_layers",
     "language": "python",
     "metadata": {},
     "outputs": [
      {
       "metadata": {},
       "output_type": "pyout",
       "prompt_number": 38,
       "text": "[784, 392, 196, 98, 49, 24, 12, 6, 3, 2]"
      }
     ],
     "prompt_number": 38
    },
    {
     "cell_type": "code",
     "collapsed": false,
     "input": "layers = forward_layers + forward_layers[::-1][1:]\nlayers",
     "language": "python",
     "metadata": {},
     "outputs": [
      {
       "metadata": {},
       "output_type": "pyout",
       "prompt_number": 39,
       "text": "[784, 392, 196, 98, 49, 24, 12, 6, 3, 2, 3, 6, 12, 24, 49, 98, 196, 392, 784]"
      }
     ],
     "prompt_number": 39
    },
    {
     "cell_type": "code",
     "collapsed": false,
     "input": "ae = MLAutoencoder(layers)",
     "language": "python",
     "metadata": {},
     "outputs": [],
     "prompt_number": 40
    },
    {
     "cell_type": "code",
     "collapsed": false,
     "input": "X_ = ae.transform(train_set[0][:5000])",
     "language": "python",
     "metadata": {},
     "outputs": [],
     "prompt_number": 41
    },
    {
     "cell_type": "code",
     "collapsed": false,
     "input": "pl.scatter(X_[:,0],X_[:,0],c=train_set[1][:len(X_)])",
     "language": "python",
     "metadata": {},
     "outputs": [
      {
       "metadata": {},
       "output_type": "pyout",
       "prompt_number": 42,
       "text": "<matplotlib.collections.PathCollection at 0x11aa47b90>"
      },
      {
       "metadata": {},
       "output_type": "display_data",
       "png": "[encoded data removed]",
       "text": "<matplotlib.figure.Figure at 0x11aa4ae50>"
      }
     ],
     "prompt_number": 42
    },
    {
     "cell_type": "code",
     "collapsed": false,
     "input": "one_nn_baseline(X_,train_set[1][:len(X_)])",
     "language": "python",
     "metadata": {},
     "outputs": [
      {
       "metadata": {},
       "output_type": "pyout",
       "prompt_number": 43,
       "text": "0.1166"
      }
     ],
     "prompt_number": 43
    },
    {
     "cell_type": "code",
     "collapsed": false,
     "input": "ae_2 = MLAutoencoder([input_dim,2,input_dim])",
     "language": "python",
     "metadata": {},
     "outputs": [],
     "prompt_number": 44
    },
    {
     "cell_type": "code",
     "collapsed": false,
     "input": "X_2 = ae_2.transform(train_set[0][:5000])\npl.scatter(X_2[:,0],X_2[:,0],c=train_set[1][:len(X_2)])\nprint(one_nn_baseline(X_2,train_set[1][:len(X_2)]))",
     "language": "python",
     "metadata": {},
     "outputs": [
      {
       "output_type": "stream",
       "stream": "stdout",
       "text": "0.1702\n"
      },
      {
       "metadata": {},
       "output_type": "display_data",
       "png": "[encoded data removed]",
       "text": "<matplotlib.figure.Figure at 0x11aa63cd0>"
      }
     ],
     "prompt_number": 46
    },
    {
     "cell_type": "code",
     "collapsed": false,
     "input": "pca = PCA(64)\nX_pca = pca.fit_transform(train_set[0][:5000])",
     "language": "python",
     "metadata": {},
     "outputs": [],
     "prompt_number": 6
    },
    {
     "cell_type": "code",
     "collapsed": false,
     "input": "pl.plot(pca.explained_variance_ratio_)\nprint(sum(pca.explained_variance_ratio_))",
     "language": "python",
     "metadata": {},
     "outputs": [
      {
       "output_type": "stream",
       "stream": "stdout",
       "text": "0.86632352625\n"
      },
      {
       "metadata": {},
       "output_type": "display_data",
       "png": "[encoded data removed]",
       "text": "<matplotlib.figure.Figure at 0x10d6c0990>"
      }
     ],
     "prompt_number": 8
    },
    {
     "cell_type": "code",
     "collapsed": false,
     "input": "ae_3 = MLAutoencoder([64,32,16,8,4,2,4,8,16,32,64])\nX_3 = ae_3.transform(X_pca)\npl.scatter(X_3[:,0],X_3[:,0],c=train_set[1][:len(X_3)])\nprint(one_nn_baseline(X_3,train_set[1][:len(X_3)]))",
     "language": "python",
     "metadata": {},
     "outputs": [
      {
       "output_type": "stream",
       "stream": "stdout",
       "text": "0.1534\n"
      },
      {
       "metadata": {},
       "output_type": "display_data",
       "png": "[encoded data removed]",
       "text": "<matplotlib.figure.Figure at 0x10dc4c2d0>"
      }
     ],
     "prompt_number": 14
    },
    {
     "cell_type": "code",
     "collapsed": false,
     "input": "ae_4 = MLAutoencoder([64,16,4,2,4,16,64])\nX_4 = ae_4.transform(X_pca)\npl.scatter(X_4[:,0],X_4[:,0],c=train_set[1][:len(X_4)])\nprint(one_nn_baseline(X_4,train_set[1][:len(X_4)]))",
     "language": "python",
     "metadata": {},
     "outputs": [
      {
       "output_type": "stream",
       "stream": "stdout",
       "text": "0.1574\n"
      },
      {
       "metadata": {},
       "output_type": "display_data",
       "png": "[encoded data removed]",
       "text": "<matplotlib.figure.Figure at 0x10de3c110>"
      }
     ],
     "prompt_number": 17
    },
    {
     "cell_type": "code",
     "collapsed": false,
     "input": "ae_5 = MLAutoencoder([64,10,64])\nX_5 = ae_5.transform(X_pca)\npl.scatter(X_5[:,0],X_5[:,0],c=train_set[1][:len(X_5)])\nprint(one_nn_baseline(X_5,train_set[1][:len(X_5)]))",
     "language": "python",
     "metadata": {},
     "outputs": [
      {
       "output_type": "stream",
       "stream": "stdout",
       "text": "0.5106\n"
      },
      {
       "metadata": {},
       "output_type": "display_data",
       "png": "[encoded data removed]",
       "text": "<matplotlib.figure.Figure at 0x114681c50>"
      }
     ],
     "prompt_number": 25
    },
    {
     "cell_type": "code",
     "collapsed": false,
     "input": "",
     "language": "python",
     "metadata": {},
     "outputs": []
    },
    {
     "cell_type": "code",
     "collapsed": false,
     "input": "from sklearn import datasets\ndata = datasets.load_digits()\nX = data.data\nY = data.target",
     "language": "python",
     "metadata": {},
     "outputs": [],
     "prompt_number": 22
    },
    {
     "cell_type": "code",
     "collapsed": false,
     "input": "X.shape",
     "language": "python",
     "metadata": {},
     "outputs": [
      {
       "metadata": {},
       "output_type": "pyout",
       "prompt_number": 23,
       "text": "(1797, 64)"
      }
     ],
     "prompt_number": 23
    },
    {
     "cell_type": "code",
     "collapsed": false,
     "input": "pca = PCA(32)\nX_pca = pca.fit_transform(X)\npl.plot(pca.explained_variance_ratio_)\nprint(sum(pca.explained_variance_ratio_))",
     "language": "python",
     "metadata": {},
     "outputs": [
      {
       "output_type": "stream",
       "stream": "stdout",
       "text": "0.966354206963\n"
      },
      {
       "metadata": {},
       "output_type": "display_data",
       "png": "[encoded data removed]",
       "text": "<matplotlib.figure.Figure at 0x10c9e7110>"
      }
     ],
     "prompt_number": 29
    },
    {
     "cell_type": "code",
     "collapsed": false,
     "input": "ae_6 = MLAutoencoder([32,2,32])\nX_6 = ae_6.transform(X_pca)\npl.scatter(X_6[:,0],X_6[:,0],c=train_set[1][:len(X_6)])\nprint(one_nn_baseline(X_6,Y[:len(X_6)]))",
     "language": "python",
     "metadata": {},
     "outputs": [
      {
       "output_type": "stream",
       "stream": "stdout",
       "text": "0.204785754035\n"
      },
      {
       "metadata": {},
       "output_type": "display_data",
       "png": "[encoded data removed]",
       "text": "<matplotlib.figure.Figure at 0x11459c8d0>"
      }
     ],
     "prompt_number": 34
    },
    {
     "cell_type": "code",
     "collapsed": false,
     "input": "from time import time\nt = time()\nn = 1000\ndata = np.zeros(n)\naes = np.empty(n,dtype=object)\nfor i in range(n):\n    aes[i] = MLAutoencoder([32,2,32])\n    data[i] = one_nn_baseline(aes[i].transform(X_pca),Y)\n    if i % 10 == 0:\n        print(i)\n        print(time() - t)\nprint(time() - t)",
     "language": "python",
     "metadata": {},
     "outputs": [
      {
       "output_type": "stream",
       "stream": "stdout",
       "text": "0\n0.194649934769\n10"
      },
      {
       "output_type": "stream",
       "stream": "stdout",
       "text": "\n2.03154706955\n20"
      },
      {
       "output_type": "stream",
       "stream": "stdout",
       "text": "\n3.84395194054\n30"
      },
      {
       "output_type": "stream",
       "stream": "stdout",
       "text": "\n5.65981888771\n40"
      },
      {
       "output_type": "stream",
       "stream": "stdout",
       "text": "\n7.44265699387\n50"
      },
      {
       "output_type": "stream",
       "stream": "stdout",
       "text": "\n9.25756311417\n60"
      },
      {
       "output_type": "stream",
       "stream": "stdout",
       "text": "\n11.0184390545\n70"
      },
      {
       "output_type": "stream",
       "stream": "stdout",
       "text": "\n12.8358619213\n80"
      },
      {
       "output_type": "stream",
       "stream": "stdout",
       "text": "\n14.6209049225\n90"
      },
      {
       "output_type": "stream",
       "stream": "stdout",
       "text": "\n16.4241070747\n100"
      },
      {
       "output_type": "stream",
       "stream": "stdout",
       "text": "\n18.2939870358\n110"
      },
      {
       "output_type": "stream",
       "stream": "stdout",
       "text": "\n20.1695868969\n120"
      },
      {
       "output_type": "stream",
       "stream": "stdout",
       "text": "\n22.0671439171\n130"
      },
      {
       "output_type": "stream",
       "stream": "stdout",
       "text": "\n23.912115097\n140"
      },
      {
       "output_type": "stream",
       "stream": "stdout",
       "text": "\n25.7082569599\n150"
      },
      {
       "output_type": "stream",
       "stream": "stdout",
       "text": "\n27.5964438915\n160"
      },
      {
       "output_type": "stream",
       "stream": "stdout",
       "text": "\n29.3909459114\n170"
      },
      {
       "output_type": "stream",
       "stream": "stdout",
       "text": "\n31.2660939693\n180"
      },
      {
       "output_type": "stream",
       "stream": "stdout",
       "text": "\n33.1158239841\n190"
      },
      {
       "output_type": "stream",
       "stream": "stdout",
       "text": "\n34.999382019\n200"
      },
      {
       "output_type": "stream",
       "stream": "stdout",
       "text": "\n36.8691940308\n210"
      },
      {
       "output_type": "stream",
       "stream": "stdout",
       "text": "\n38.8097789288\n220"
      },
      {
       "output_type": "stream",
       "stream": "stdout",
       "text": "\n40.6097939014\n230"
      },
      {
       "output_type": "stream",
       "stream": "stdout",
       "text": "\n42.4128229618\n240"
      },
      {
       "output_type": "stream",
       "stream": "stdout",
       "text": "\n44.1908180714\n250"
      },
      {
       "output_type": "stream",
       "stream": "stdout",
       "text": "\n46.0589969158\n260"
      },
      {
       "output_type": "stream",
       "stream": "stdout",
       "text": "\n47.8918960094\n270"
      },
      {
       "output_type": "stream",
       "stream": "stdout",
       "text": "\n49.8150060177\n280"
      },
      {
       "output_type": "stream",
       "stream": "stdout",
       "text": "\n51.6993510723\n290"
      },
      {
       "output_type": "stream",
       "stream": "stdout",
       "text": "\n53.616314888\n300"
      },
      {
       "output_type": "stream",
       "stream": "stdout",
       "text": "\n55.5104351044\n310"
      },
      {
       "output_type": "stream",
       "stream": "stdout",
       "text": "\n57.4169640541\n320"
      },
      {
       "output_type": "stream",
       "stream": "stdout",
       "text": "\n59.302448988\n330"
      },
      {
       "output_type": "stream",
       "stream": "stdout",
       "text": "\n61.2635939121\n340"
      },
      {
       "output_type": "stream",
       "stream": "stdout",
       "text": "\n63.1324279308\n350"
      },
      {
       "output_type": "stream",
       "stream": "stdout",
       "text": "\n65.0048880577\n360"
      },
      {
       "output_type": "stream",
       "stream": "stdout",
       "text": "\n66.8759388924\n370"
      },
      {
       "output_type": "stream",
       "stream": "stdout",
       "text": "\n68.7133328915\n380"
      },
      {
       "output_type": "stream",
       "stream": "stdout",
       "text": "\n70.5116930008\n390"
      },
      {
       "output_type": "stream",
       "stream": "stdout",
       "text": "\n72.3125629425\n400"
      },
      {
       "output_type": "stream",
       "stream": "stdout",
       "text": "\n74.1636300087\n410"
      },
      {
       "output_type": "stream",
       "stream": "stdout",
       "text": "\n76.0858910084\n420"
      },
      {
       "output_type": "stream",
       "stream": "stdout",
       "text": "\n77.9752109051\n430"
      },
      {
       "output_type": "stream",
       "stream": "stdout",
       "text": "\n79.8385710716\n440"
      },
      {
       "output_type": "stream",
       "stream": "stdout",
       "text": "\n81.653496027\n450"
      },
      {
       "output_type": "stream",
       "stream": "stdout",
       "text": "\n83.4592349529\n460"
      },
      {
       "output_type": "stream",
       "stream": "stdout",
       "text": "\n85.3402769566\n470"
      },
      {
       "output_type": "stream",
       "stream": "stdout",
       "text": "\n87.2055609226\n480"
      },
      {
       "output_type": "stream",
       "stream": "stdout",
       "text": "\n89.002959013\n490"
      },
      {
       "output_type": "stream",
       "stream": "stdout",
       "text": "\n90.8366649151\n500"
      },
      {
       "output_type": "stream",
       "stream": "stdout",
       "text": "\n92.7533609867\n510"
      },
      {
       "output_type": "stream",
       "stream": "stdout",
       "text": "\n94.6725211143\n520"
      },
      {
       "output_type": "stream",
       "stream": "stdout",
       "text": "\n96.5500469208\n530"
      },
      {
       "output_type": "stream",
       "stream": "stdout",
       "text": "\n98.4657280445\n540"
      },
      {
       "output_type": "stream",
       "stream": "stdout",
       "text": "\n100.366890907\n550"
      },
      {
       "output_type": "stream",
       "stream": "stdout",
       "text": "\n102.223402977\n560"
      },
      {
       "output_type": "stream",
       "stream": "stdout",
       "text": "\n104.093169928\n570"
      },
      {
       "output_type": "stream",
       "stream": "stdout",
       "text": "\n105.994754076\n580"
      },
      {
       "output_type": "stream",
       "stream": "stdout",
       "text": "\n107.848988056\n590"
      },
      {
       "output_type": "stream",
       "stream": "stdout",
       "text": "\n109.733473063\n600"
      },
      {
       "output_type": "stream",
       "stream": "stdout",
       "text": "\n111.51403904\n610"
      },
      {
       "output_type": "stream",
       "stream": "stdout",
       "text": "\n113.310707092\n620"
      },
      {
       "output_type": "stream",
       "stream": "stdout",
       "text": "\n115.167814016\n630"
      },
      {
       "output_type": "stream",
       "stream": "stdout",
       "text": "\n116.977962017\n640"
      },
      {
       "output_type": "stream",
       "stream": "stdout",
       "text": "\n118.756346941\n650"
      },
      {
       "output_type": "stream",
       "stream": "stdout",
       "text": "\n120.499243021\n660"
      },
      {
       "output_type": "stream",
       "stream": "stdout",
       "text": "\n122.330401897\n670"
      },
      {
       "output_type": "stream",
       "stream": "stdout",
       "text": "\n124.126036882\n680"
      },
      {
       "output_type": "stream",
       "stream": "stdout",
       "text": "\n125.916685104\n690"
      },
      {
       "output_type": "stream",
       "stream": "stdout",
       "text": "\n127.737445116\n700"
      },
      {
       "output_type": "stream",
       "stream": "stdout",
       "text": "\n129.583395004\n710"
      },
      {
       "output_type": "stream",
       "stream": "stdout",
       "text": "\n131.48704505\n720"
      },
      {
       "output_type": "stream",
       "stream": "stdout",
       "text": "\n133.282830954\n730"
      },
      {
       "output_type": "stream",
       "stream": "stdout",
       "text": "\n135.062798023\n740"
      },
      {
       "output_type": "stream",
       "stream": "stdout",
       "text": "\n136.866306067\n750"
      },
      {
       "output_type": "stream",
       "stream": "stdout",
       "text": "\n138.65612793\n760"
      },
      {
       "output_type": "stream",
       "stream": "stdout",
       "text": "\n140.648972988\n770"
      },
      {
       "output_type": "stream",
       "stream": "stdout",
       "text": "\n142.499213934\n780"
      },
      {
       "output_type": "stream",
       "stream": "stdout",
       "text": "\n144.423583031\n790"
      },
      {
       "output_type": "stream",
       "stream": "stdout",
       "text": "\n146.219480038\n800"
      },
      {
       "output_type": "stream",
       "stream": "stdout",
       "text": "\n148.24416399\n810"
      },
      {
       "output_type": "stream",
       "stream": "stdout",
       "text": "\n150.061836958\n820"
      },
      {
       "output_type": "stream",
       "stream": "stdout",
       "text": "\n151.865967989\n830"
      },
      {
       "output_type": "stream",
       "stream": "stdout",
       "text": "\n153.68166995\n840"
      },
      {
       "output_type": "stream",
       "stream": "stdout",
       "text": "\n155.598054886\n850"
      },
      {
       "output_type": "stream",
       "stream": "stdout",
       "text": "\n157.539693117\n860"
      },
      {
       "output_type": "stream",
       "stream": "stdout",
       "text": "\n159.303280115\n870"
      },
      {
       "output_type": "stream",
       "stream": "stdout",
       "text": "\n161.414482117\n880"
      },
      {
       "output_type": "stream",
       "stream": "stdout",
       "text": "\n163.226574898\n890"
      },
      {
       "output_type": "stream",
       "stream": "stdout",
       "text": "\n164.999115944\n900"
      },
      {
       "output_type": "stream",
       "stream": "stdout",
       "text": "\n166.782206059\n910"
      },
      {
       "output_type": "stream",
       "stream": "stdout",
       "text": "\n168.618218899\n920"
      },
      {
       "output_type": "stream",
       "stream": "stdout",
       "text": "\n170.446815968\n930"
      },
      {
       "output_type": "stream",
       "stream": "stdout",
       "text": "\n172.184514999\n940"
      },
      {
       "output_type": "stream",
       "stream": "stdout",
       "text": "\n173.981235027\n950"
      },
      {
       "output_type": "stream",
       "stream": "stdout",
       "text": "\n175.849663973\n960"
      },
      {
       "output_type": "stream",
       "stream": "stdout",
       "text": "\n177.72834897\n970"
      },
      {
       "output_type": "stream",
       "stream": "stdout",
       "text": "\n179.525043011\n980"
      },
      {
       "output_type": "stream",
       "stream": "stdout",
       "text": "\n181.307591915\n990"
      },
      {
       "output_type": "stream",
       "stream": "stdout",
       "text": "\n183.114211082\n185.045624971"
      },
      {
       "output_type": "stream",
       "stream": "stdout",
       "text": "\n"
      }
     ],
     "prompt_number": 43
    },
    {
     "cell_type": "code",
     "collapsed": false,
     "input": "pl.hist(data,bins=10);",
     "language": "python",
     "metadata": {},
     "outputs": [
      {
       "metadata": {},
       "output_type": "display_data",
       "png": "[encoded data removed]",
       "text": "<matplotlib.figure.Figure at 0x10de50790>"
      }
     ],
     "prompt_number": 47
    },
    {
     "cell_type": "code",
     "collapsed": false,
     "input": "data_single_layer = data",
     "language": "python",
     "metadata": {},
     "outputs": [],
     "prompt_number": 48
    },
    {
     "cell_type": "code",
     "collapsed": false,
     "input": "from time import time\nt = time()\nn = 1000\ndata = np.zeros(n)\naes = np.empty(n,dtype=object)\nfor i in range(n):\n    aes[i] = MLAutoencoder([32,16,2,16,32])\n    data[i] = one_nn_baseline(aes[i].transform(X_pca),Y)\n    if i % 10 == 0:\n        print(i)\n        print(time() - t)\nprint(time() - t)",
     "language": "python",
     "metadata": {},
     "outputs": [
      {
       "output_type": "stream",
       "stream": "stdout",
       "text": "0\n0.216962099075\n10"
      },
      {
       "output_type": "stream",
       "stream": "stdout",
       "text": "\n2.2189950943\n20"
      },
      {
       "output_type": "stream",
       "stream": "stdout",
       "text": "\n4.15798616409\n30"
      },
      {
       "output_type": "stream",
       "stream": "stdout",
       "text": "\n6.06711602211\n40"
      },
      {
       "output_type": "stream",
       "stream": "stdout",
       "text": "\n8.01408815384\n50"
      },
      {
       "output_type": "stream",
       "stream": "stdout",
       "text": "\n10.0655210018\n60"
      },
      {
       "output_type": "stream",
       "stream": "stdout",
       "text": "\n12.0787651539\n70"
      },
      {
       "output_type": "stream",
       "stream": "stdout",
       "text": "\n14.070389986\n80"
      },
      {
       "output_type": "stream",
       "stream": "stdout",
       "text": "\n16.1167831421\n90"
      },
      {
       "output_type": "stream",
       "stream": "stdout",
       "text": "\n18.1455640793\n100"
      },
      {
       "output_type": "stream",
       "stream": "stdout",
       "text": "\n20.1917440891\n110"
      },
      {
       "output_type": "stream",
       "stream": "stdout",
       "text": "\n22.2622401714\n120"
      },
      {
       "output_type": "stream",
       "stream": "stdout",
       "text": "\n24.2454390526\n130"
      },
      {
       "output_type": "stream",
       "stream": "stdout",
       "text": "\n26.1740751266\n140"
      },
      {
       "output_type": "stream",
       "stream": "stdout",
       "text": "\n28.1101310253\n150"
      },
      {
       "output_type": "stream",
       "stream": "stdout",
       "text": "\n30.0664069653\n160"
      },
      {
       "output_type": "stream",
       "stream": "stdout",
       "text": "\n31.963545084\n170"
      },
      {
       "output_type": "stream",
       "stream": "stdout",
       "text": "\n33.858533144\n180"
      },
      {
       "output_type": "stream",
       "stream": "stdout",
       "text": "\n35.7541871071\n190"
      },
      {
       "output_type": "stream",
       "stream": "stdout",
       "text": "\n37.6930379868\n200"
      },
      {
       "output_type": "stream",
       "stream": "stdout",
       "text": "\n39.6187551022\n210"
      },
      {
       "output_type": "stream",
       "stream": "stdout",
       "text": "\n41.545979023\n220"
      },
      {
       "output_type": "stream",
       "stream": "stdout",
       "text": "\n43.4524550438\n230"
      },
      {
       "output_type": "stream",
       "stream": "stdout",
       "text": "\n45.3248341084\n240"
      },
      {
       "output_type": "stream",
       "stream": "stdout",
       "text": "\n47.2275929451\n250"
      },
      {
       "output_type": "stream",
       "stream": "stdout",
       "text": "\n49.1496789455\n260"
      },
      {
       "output_type": "stream",
       "stream": "stdout",
       "text": "\n51.0615711212\n270"
      },
      {
       "output_type": "stream",
       "stream": "stdout",
       "text": "\n52.9538550377\n280"
      },
      {
       "output_type": "stream",
       "stream": "stdout",
       "text": "\n54.8211610317\n290"
      },
      {
       "output_type": "stream",
       "stream": "stdout",
       "text": "\n56.7717170715\n300"
      },
      {
       "output_type": "stream",
       "stream": "stdout",
       "text": "\n58.772331953\n310"
      },
      {
       "output_type": "stream",
       "stream": "stdout",
       "text": "\n60.8229401112\n320"
      },
      {
       "output_type": "stream",
       "stream": "stdout",
       "text": "\n62.821532011\n330"
      },
      {
       "output_type": "stream",
       "stream": "stdout",
       "text": "\n64.9485230446\n340"
      },
      {
       "output_type": "stream",
       "stream": "stdout",
       "text": "\n66.9792029858\n350"
      },
      {
       "output_type": "stream",
       "stream": "stdout",
       "text": "\n68.9326629639\n360"
      },
      {
       "output_type": "stream",
       "stream": "stdout",
       "text": "\n70.8849110603\n370"
      },
      {
       "output_type": "stream",
       "stream": "stdout",
       "text": "\n72.789700985\n380"
      },
      {
       "output_type": "stream",
       "stream": "stdout",
       "text": "\n74.7128090858\n390"
      },
      {
       "output_type": "stream",
       "stream": "stdout",
       "text": "\n76.6637570858\n400"
      },
      {
       "output_type": "stream",
       "stream": "stdout",
       "text": "\n78.6264181137\n410"
      },
      {
       "output_type": "stream",
       "stream": "stdout",
       "text": "\n80.5597600937\n420"
      },
      {
       "output_type": "stream",
       "stream": "stdout",
       "text": "\n82.5029611588\n430"
      },
      {
       "output_type": "stream",
       "stream": "stdout",
       "text": "\n84.4260849953\n440"
      },
      {
       "output_type": "stream",
       "stream": "stdout",
       "text": "\n86.3793540001\n450"
      },
      {
       "output_type": "stream",
       "stream": "stdout",
       "text": "\n88.3611690998\n460"
      },
      {
       "output_type": "stream",
       "stream": "stdout",
       "text": "\n90.3413231373\n470"
      },
      {
       "output_type": "stream",
       "stream": "stdout",
       "text": "\n92.3073141575\n480"
      },
      {
       "output_type": "stream",
       "stream": "stdout",
       "text": "\n94.2598969936\n490"
      },
      {
       "output_type": "stream",
       "stream": "stdout",
       "text": "\n96.1740159988\n500"
      },
      {
       "output_type": "stream",
       "stream": "stdout",
       "text": "\n98.2094810009\n510"
      },
      {
       "output_type": "stream",
       "stream": "stdout",
       "text": "\n100.152284145\n520"
      },
      {
       "output_type": "stream",
       "stream": "stdout",
       "text": "\n102.069875002\n530"
      },
      {
       "output_type": "stream",
       "stream": "stdout",
       "text": "\n104.016078949\n540"
      },
      {
       "output_type": "stream",
       "stream": "stdout",
       "text": "\n105.971562147\n550"
      },
      {
       "output_type": "stream",
       "stream": "stdout",
       "text": "\n107.916990995\n560"
      },
      {
       "output_type": "stream",
       "stream": "stdout",
       "text": "\n109.905498981\n570"
      },
      {
       "output_type": "stream",
       "stream": "stdout",
       "text": "\n111.841619015\n580"
      },
      {
       "output_type": "stream",
       "stream": "stdout",
       "text": "\n113.817512989\n590"
      },
      {
       "output_type": "stream",
       "stream": "stdout",
       "text": "\n115.789940119\n600"
      },
      {
       "output_type": "stream",
       "stream": "stdout",
       "text": "\n117.727342129\n610"
      },
      {
       "output_type": "stream",
       "stream": "stdout",
       "text": "\n119.675325155\n620"
      },
      {
       "output_type": "stream",
       "stream": "stdout",
       "text": "\n121.586244106\n630"
      },
      {
       "output_type": "stream",
       "stream": "stdout",
       "text": "\n123.54840517\n640"
      },
      {
       "output_type": "stream",
       "stream": "stdout",
       "text": "\n125.457971096\n650"
      },
      {
       "output_type": "stream",
       "stream": "stdout",
       "text": "\n127.386712074\n660"
      },
      {
       "output_type": "stream",
       "stream": "stdout",
       "text": "\n129.343052149\n670"
      },
      {
       "output_type": "stream",
       "stream": "stdout",
       "text": "\n131.405107975\n680"
      },
      {
       "output_type": "stream",
       "stream": "stdout",
       "text": "\n133.423280001\n690"
      },
      {
       "output_type": "stream",
       "stream": "stdout",
       "text": "\n135.472536087\n700"
      },
      {
       "output_type": "stream",
       "stream": "stdout",
       "text": "\n137.427443981\n710"
      },
      {
       "output_type": "stream",
       "stream": "stdout",
       "text": "\n139.318254948\n720"
      },
      {
       "output_type": "stream",
       "stream": "stdout",
       "text": "\n141.243524075\n730"
      },
      {
       "output_type": "stream",
       "stream": "stdout",
       "text": "\n143.174734116\n740"
      },
      {
       "output_type": "stream",
       "stream": "stdout",
       "text": "\n145.09325695\n750"
      },
      {
       "output_type": "stream",
       "stream": "stdout",
       "text": "\n147.038089037\n760"
      },
      {
       "output_type": "stream",
       "stream": "stdout",
       "text": "\n148.968778133\n770"
      },
      {
       "output_type": "stream",
       "stream": "stdout",
       "text": "\n150.902760029\n780"
      },
      {
       "output_type": "stream",
       "stream": "stdout",
       "text": "\n152.856822968\n790"
      },
      {
       "output_type": "stream",
       "stream": "stdout",
       "text": "\n154.760342121\n800"
      },
      {
       "output_type": "stream",
       "stream": "stdout",
       "text": "\n156.705861092\n810"
      },
      {
       "output_type": "stream",
       "stream": "stdout",
       "text": "\n158.650561094\n820"
      },
      {
       "output_type": "stream",
       "stream": "stdout",
       "text": "\n160.563406944\n830"
      },
      {
       "output_type": "stream",
       "stream": "stdout",
       "text": "\n162.493993998\n840"
      },
      {
       "output_type": "stream",
       "stream": "stdout",
       "text": "\n164.417673111\n850"
      },
      {
       "output_type": "stream",
       "stream": "stdout",
       "text": "\n166.485352039\n860"
      },
      {
       "output_type": "stream",
       "stream": "stdout",
       "text": "\n168.732316017\n870"
      },
      {
       "output_type": "stream",
       "stream": "stdout",
       "text": "\n171.028941154\n880"
      },
      {
       "output_type": "stream",
       "stream": "stdout",
       "text": "\n173.089281082\n890"
      },
      {
       "output_type": "stream",
       "stream": "stdout",
       "text": "\n175.151801109\n900"
      },
      {
       "output_type": "stream",
       "stream": "stdout",
       "text": "\n177.224868059\n910"
      },
      {
       "output_type": "stream",
       "stream": "stdout",
       "text": "\n179.281350136\n920"
      },
      {
       "output_type": "stream",
       "stream": "stdout",
       "text": "\n181.229735136\n930"
      },
      {
       "output_type": "stream",
       "stream": "stdout",
       "text": "\n183.18156004\n940"
      },
      {
       "output_type": "stream",
       "stream": "stdout",
       "text": "\n185.159044981\n950"
      },
      {
       "output_type": "stream",
       "stream": "stdout",
       "text": "\n187.088528156\n960"
      },
      {
       "output_type": "stream",
       "stream": "stdout",
       "text": "\n189.093688011\n970"
      },
      {
       "output_type": "stream",
       "stream": "stdout",
       "text": "\n191.064901114\n980"
      },
      {
       "output_type": "stream",
       "stream": "stdout",
       "text": "\n193.019813061\n990"
      },
      {
       "output_type": "stream",
       "stream": "stdout",
       "text": "\n194.962717056\n196.718389988"
      },
      {
       "output_type": "stream",
       "stream": "stdout",
       "text": "\n"
      }
     ],
     "prompt_number": 49
    },
    {
     "cell_type": "code",
     "collapsed": false,
     "input": "data_two_layer = data",
     "language": "python",
     "metadata": {},
     "outputs": [],
     "prompt_number": 51
    },
    {
     "cell_type": "code",
     "collapsed": false,
     "input": "pl.hist(data,bins=50);",
     "language": "python",
     "metadata": {},
     "outputs": [
      {
       "metadata": {},
       "output_type": "display_data",
       "png": "[encoded data removed]",
       "text": "<matplotlib.figure.Figure at 0x11702ce10>"
      }
     ],
     "prompt_number": 54
    },
    {
     "cell_type": "code",
     "collapsed": false,
     "input": "from time import time\nt = time()\nn = 1000\ndata = np.zeros(n)\naes = np.empty(n,dtype=object)\nfor i in range(n):\n    aes[i] = MLAutoencoder([32,16,8,4,2,4,8,16,32])\n    data[i] = one_nn_baseline(aes[i].transform(X_pca),Y)\n    if i % 10 == 0:\n        print(i)\n        print(time() - t)\nprint(time() - t)",
     "language": "python",
     "metadata": {},
     "outputs": []
    },
    {
     "cell_type": "code",
     "collapsed": false,
     "input": "data_two_layer = data",
     "language": "python",
     "metadata": {},
     "outputs": []
    },
    {
     "cell_type": "code",
     "collapsed": false,
     "input": "pl.hist(data,bins=50);",
     "language": "python",
     "metadata": {},
     "outputs": []
    },
    {
     "cell_type": "code",
     "collapsed": false,
     "input": "",
     "language": "python",
     "metadata": {},
     "outputs": []
    },
    {
     "cell_type": "code",
     "collapsed": false,
     "input": "import numba\n\nweights = [npr.randn(32,16),npr.randn(16,2)]\n\ndef project(X,weight1,weight2):\n    return sigmoid(sigmoid(X.dot(weight1)).dot(weight2))",
     "language": "python",
     "metadata": {},
     "outputs": [],
     "prompt_number": 50
    },
    {
     "cell_type": "code",
     "collapsed": false,
     "input": "X_pca.dot(weights[0]).shape",
     "language": "python",
     "metadata": {},
     "outputs": [
      {
       "metadata": {},
       "output_type": "pyout",
       "prompt_number": 60,
       "text": "(1797, 16)"
      }
     ],
     "prompt_number": 60
    },
    {
     "cell_type": "code",
     "collapsed": false,
     "input": "%timeit project(X_pca,npr.randn(32,16),npr.randn(16,2))",
     "language": "python",
     "metadata": {},
     "outputs": [
      {
       "output_type": "stream",
       "stream": "stdout",
       "text": "1000 loops, best of 3: 529 \u00b5s per loop\n"
      }
     ],
     "prompt_number": 61
    },
    {
     "cell_type": "code",
     "collapsed": false,
     "input": "t = time()\ndata = np.array([project(X_pca,npr.randn(32,16),npr.randn(16,2)) for _ in range(10000)])\nprint(time() - t)",
     "language": "python",
     "metadata": {},
     "outputs": [
      {
       "output_type": "stream",
       "stream": "stdout",
       "text": "14.863409996\n"
      }
     ],
     "prompt_number": 64
    },
    {
     "cell_type": "code",
     "collapsed": false,
     "input": "raw_data = data\nraw_data.shape",
     "language": "python",
     "metadata": {},
     "outputs": [
      {
       "metadata": {},
       "output_type": "pyout",
       "prompt_number": 67,
       "text": "(10000, 1797, 2)"
      }
     ],
     "prompt_number": 67
    },
    {
     "cell_type": "code",
     "collapsed": false,
     "input": "raw_data.shape",
     "language": "python",
     "metadata": {},
     "outputs": [
      {
       "metadata": {},
       "output_type": "pyout",
       "prompt_number": 122,
       "text": "(10000, 1797, 2)"
      }
     ],
     "prompt_number": 122
    },
    {
     "cell_type": "code",
     "collapsed": false,
     "input": "%timeit np.array([j for j in range(raw_data.shape[1]) if npr.rand() < 0.01])",
     "language": "python",
     "metadata": {},
     "outputs": [
      {
       "output_type": "stream",
       "stream": "stdout",
       "text": "1000 loops, best of 3: 303 \u00b5s per loop\n"
      }
     ],
     "prompt_number": 128
    },
    {
     "cell_type": "code",
     "collapsed": false,
     "input": "sample = np.array([j for j in range(raw_data.shape[1]) if npr.rand() < 0.1])\nsample",
     "language": "python",
     "metadata": {},
     "outputs": [
      {
       "metadata": {},
       "output_type": "pyout",
       "prompt_number": 130,
       "text": "array([   4,   45,   76,   79,   85,  109,  111,  124,  126,  134,  163,\n        168,  190,  207,  229,  237,  245,  250,  261,  294,  296,  298,\n        303,  304,  331,  335,  348,  351,  352,  358,  362,  373,  380,\n        381,  382,  385,  388,  428,  435,  437,  442,  473,  475,  476,\n        512,  523,  525,  543,  554,  559,  570,  574,  579,  583,  590,\n        592,  594,  602,  615,  619,  624,  630,  636,  643,  645,  664,\n        670,  675,  700,  701,  734,  735,  737,  738,  756,  765,  770,\n        774,  784,  806,  876,  884,  899,  905,  912,  914,  919,  935,\n        937,  947,  956,  959,  967,  978,  986,  990,  991, 1009, 1019,\n       1023, 1038, 1056, 1082, 1094, 1102, 1106, 1107, 1108, 1113, 1116,\n       1119, 1138, 1145, 1148, 1150, 1155, 1161, 1176, 1191, 1196, 1244,\n       1246, 1268, 1286, 1299, 1301, 1321, 1342, 1359, 1371, 1387, 1400,\n       1412, 1413, 1415, 1423, 1429, 1437, 1445, 1454, 1467, 1472, 1476,\n       1498, 1500, 1513, 1520, 1531, 1552, 1558, 1560, 1564, 1566, 1582,\n       1604, 1621, 1623, 1624, 1628, 1634, 1649, 1654, 1656, 1658, 1670,\n       1673, 1675, 1693, 1695, 1721, 1723, 1727, 1743, 1753, 1757, 1760,\n       1762, 1764, 1772, 1785, 1792, 1793])"
      }
     ],
     "prompt_number": 130
    },
    {
     "cell_type": "code",
     "collapsed": false,
     "input": "%timeit one_nn_baseline(raw_data[i][sample],Y[sample])",
     "language": "python",
     "metadata": {},
     "outputs": [
      {
       "output_type": "stream",
       "stream": "stdout",
       "text": "100 loops, best of 3: 16.5 ms per loop\n"
      }
     ],
     "prompt_number": 131
    },
    {
     "cell_type": "code",
     "collapsed": false,
     "input": "t = time()\ndata = np.zeros(len(raw_data))\n\nfor i in range(len(data)):\n    sample = np.array([j for j in range(raw_data.shape[1]) if npr.rand() < 0.1])\n    data[i] = one_nn_baseline(raw_data[i][sample],Y[sample])\n    if i % 100 == 0:\n        print(i)\nprint(time()-t)",
     "language": "python",
     "metadata": {},
     "outputs": [
      {
       "output_type": "stream",
       "stream": "stdout",
       "text": "0\n100"
      },
      {
       "output_type": "stream",
       "stream": "stdout",
       "text": "\n200"
      },
      {
       "output_type": "stream",
       "stream": "stdout",
       "text": "\n300"
      },
      {
       "output_type": "stream",
       "stream": "stdout",
       "text": "\n400"
      },
      {
       "output_type": "stream",
       "stream": "stdout",
       "text": "\n500"
      },
      {
       "output_type": "stream",
       "stream": "stdout",
       "text": "\n600"
      },
      {
       "output_type": "stream",
       "stream": "stdout",
       "text": "\n700"
      },
      {
       "output_type": "stream",
       "stream": "stdout",
       "text": "\n800"
      },
      {
       "output_type": "stream",
       "stream": "stdout",
       "text": "\n900"
      },
      {
       "output_type": "stream",
       "stream": "stdout",
       "text": "\n1000"
      },
      {
       "output_type": "stream",
       "stream": "stdout",
       "text": "\n1100"
      },
      {
       "output_type": "stream",
       "stream": "stdout",
       "text": "\n1200"
      },
      {
       "output_type": "stream",
       "stream": "stdout",
       "text": "\n1300"
      },
      {
       "output_type": "stream",
       "stream": "stdout",
       "text": "\n1400"
      },
      {
       "output_type": "stream",
       "stream": "stdout",
       "text": "\n1500"
      },
      {
       "output_type": "stream",
       "stream": "stdout",
       "text": "\n1600"
      },
      {
       "output_type": "stream",
       "stream": "stdout",
       "text": "\n1700"
      },
      {
       "output_type": "stream",
       "stream": "stdout",
       "text": "\n1800"
      },
      {
       "output_type": "stream",
       "stream": "stdout",
       "text": "\n1900"
      },
      {
       "output_type": "stream",
       "stream": "stdout",
       "text": "\n2000"
      },
      {
       "output_type": "stream",
       "stream": "stdout",
       "text": "\n2100"
      },
      {
       "output_type": "stream",
       "stream": "stdout",
       "text": "\n2200"
      },
      {
       "output_type": "stream",
       "stream": "stdout",
       "text": "\n2300"
      },
      {
       "output_type": "stream",
       "stream": "stdout",
       "text": "\n2400"
      },
      {
       "output_type": "stream",
       "stream": "stdout",
       "text": "\n2500"
      },
      {
       "output_type": "stream",
       "stream": "stdout",
       "text": "\n2600"
      },
      {
       "output_type": "stream",
       "stream": "stdout",
       "text": "\n2700"
      },
      {
       "output_type": "stream",
       "stream": "stdout",
       "text": "\n2800"
      },
      {
       "output_type": "stream",
       "stream": "stdout",
       "text": "\n2900"
      },
      {
       "output_type": "stream",
       "stream": "stdout",
       "text": "\n3000"
      },
      {
       "output_type": "stream",
       "stream": "stdout",
       "text": "\n3100"
      },
      {
       "output_type": "stream",
       "stream": "stdout",
       "text": "\n3200"
      },
      {
       "output_type": "stream",
       "stream": "stdout",
       "text": "\n3300"
      },
      {
       "output_type": "stream",
       "stream": "stdout",
       "text": "\n3400"
      },
      {
       "output_type": "stream",
       "stream": "stdout",
       "text": "\n3500"
      },
      {
       "output_type": "stream",
       "stream": "stdout",
       "text": "\n3600"
      },
      {
       "output_type": "stream",
       "stream": "stdout",
       "text": "\n3700"
      },
      {
       "output_type": "stream",
       "stream": "stdout",
       "text": "\n3800"
      },
      {
       "output_type": "stream",
       "stream": "stdout",
       "text": "\n3900"
      },
      {
       "output_type": "stream",
       "stream": "stdout",
       "text": "\n4000"
      },
      {
       "output_type": "stream",
       "stream": "stdout",
       "text": "\n4100"
      },
      {
       "output_type": "stream",
       "stream": "stdout",
       "text": "\n4200"
      },
      {
       "output_type": "stream",
       "stream": "stdout",
       "text": "\n4300"
      },
      {
       "output_type": "stream",
       "stream": "stdout",
       "text": "\n4400"
      },
      {
       "output_type": "stream",
       "stream": "stdout",
       "text": "\n4500"
      },
      {
       "output_type": "stream",
       "stream": "stdout",
       "text": "\n4600"
      },
      {
       "output_type": "stream",
       "stream": "stdout",
       "text": "\n4700"
      },
      {
       "output_type": "stream",
       "stream": "stdout",
       "text": "\n4800"
      },
      {
       "output_type": "stream",
       "stream": "stdout",
       "text": "\n4900"
      },
      {
       "output_type": "stream",
       "stream": "stdout",
       "text": "\n5000"
      },
      {
       "output_type": "stream",
       "stream": "stdout",
       "text": "\n5100"
      },
      {
       "output_type": "stream",
       "stream": "stdout",
       "text": "\n5200"
      },
      {
       "output_type": "stream",
       "stream": "stdout",
       "text": "\n5300"
      },
      {
       "output_type": "stream",
       "stream": "stdout",
       "text": "\n5400"
      },
      {
       "output_type": "stream",
       "stream": "stdout",
       "text": "\n5500"
      },
      {
       "output_type": "stream",
       "stream": "stdout",
       "text": "\n5600"
      },
      {
       "output_type": "stream",
       "stream": "stdout",
       "text": "\n5700"
      },
      {
       "output_type": "stream",
       "stream": "stdout",
       "text": "\n5800"
      },
      {
       "output_type": "stream",
       "stream": "stdout",
       "text": "\n5900"
      },
      {
       "output_type": "stream",
       "stream": "stdout",
       "text": "\n6000"
      },
      {
       "output_type": "stream",
       "stream": "stdout",
       "text": "\n6100"
      },
      {
       "output_type": "stream",
       "stream": "stdout",
       "text": "\n6200"
      },
      {
       "output_type": "stream",
       "stream": "stdout",
       "text": "\n6300"
      },
      {
       "output_type": "stream",
       "stream": "stdout",
       "text": "\n6400"
      },
      {
       "output_type": "stream",
       "stream": "stdout",
       "text": "\n6500"
      },
      {
       "output_type": "stream",
       "stream": "stdout",
       "text": "\n6600"
      },
      {
       "output_type": "stream",
       "stream": "stdout",
       "text": "\n6700"
      },
      {
       "output_type": "stream",
       "stream": "stdout",
       "text": "\n6800"
      },
      {
       "output_type": "stream",
       "stream": "stdout",
       "text": "\n6900"
      },
      {
       "output_type": "stream",
       "stream": "stdout",
       "text": "\n7000"
      },
      {
       "output_type": "stream",
       "stream": "stdout",
       "text": "\n7100"
      },
      {
       "output_type": "stream",
       "stream": "stdout",
       "text": "\n7200"
      },
      {
       "output_type": "stream",
       "stream": "stdout",
       "text": "\n7300"
      },
      {
       "output_type": "stream",
       "stream": "stdout",
       "text": "\n7400"
      },
      {
       "output_type": "stream",
       "stream": "stdout",
       "text": "\n7500"
      },
      {
       "output_type": "stream",
       "stream": "stdout",
       "text": "\n7600"
      },
      {
       "output_type": "stream",
       "stream": "stdout",
       "text": "\n7700"
      },
      {
       "output_type": "stream",
       "stream": "stdout",
       "text": "\n7800"
      },
      {
       "output_type": "stream",
       "stream": "stdout",
       "text": "\n7900"
      },
      {
       "output_type": "stream",
       "stream": "stdout",
       "text": "\n8000"
      },
      {
       "output_type": "stream",
       "stream": "stdout",
       "text": "\n8100"
      },
      {
       "output_type": "stream",
       "stream": "stdout",
       "text": "\n8200"
      },
      {
       "output_type": "stream",
       "stream": "stdout",
       "text": "\n8300"
      },
      {
       "output_type": "stream",
       "stream": "stdout",
       "text": "\n8400"
      },
      {
       "output_type": "stream",
       "stream": "stdout",
       "text": "\n8500"
      },
      {
       "output_type": "stream",
       "stream": "stdout",
       "text": "\n8600"
      },
      {
       "output_type": "stream",
       "stream": "stdout",
       "text": "\n8700"
      },
      {
       "output_type": "stream",
       "stream": "stdout",
       "text": "\n8800"
      },
      {
       "output_type": "stream",
       "stream": "stdout",
       "text": "\n8900"
      },
      {
       "output_type": "stream",
       "stream": "stdout",
       "text": "\n9000"
      },
      {
       "output_type": "stream",
       "stream": "stdout",
       "text": "\n9100"
      },
      {
       "output_type": "stream",
       "stream": "stdout",
       "text": "\n9200"
      },
      {
       "output_type": "stream",
       "stream": "stdout",
       "text": "\n9300"
      },
      {
       "output_type": "stream",
       "stream": "stdout",
       "text": "\n9400"
      },
      {
       "output_type": "stream",
       "stream": "stdout",
       "text": "\n9500"
      },
      {
       "output_type": "stream",
       "stream": "stdout",
       "text": "\n9600"
      },
      {
       "output_type": "stream",
       "stream": "stdout",
       "text": "\n9700"
      },
      {
       "output_type": "stream",
       "stream": "stdout",
       "text": "\n9800"
      },
      {
       "output_type": "stream",
       "stream": "stdout",
       "text": "\n9900"
      },
      {
       "output_type": "stream",
       "stream": "stdout",
       "text": "\n174.91839385"
      },
      {
       "output_type": "stream",
       "stream": "stdout",
       "text": "\n"
      }
     ],
     "prompt_number": 132
    },
    {
     "cell_type": "code",
     "collapsed": false,
     "input": "pl.hist(data*100,bins=50,normed=True);",
     "language": "python",
     "metadata": {},
     "outputs": [
      {
       "metadata": {},
       "output_type": "display_data",
       "png": "[encoded data removed]",
       "text": "<matplotlib.figure.Figure at 0x10d3a0dd0>"
      }
     ],
     "prompt_number": 135
    },
    {
     "cell_type": "code",
     "collapsed": false,
     "input": "from scipy.spatial.distance import pdist",
     "language": "python",
     "metadata": {},
     "outputs": [],
     "prompt_number": 72
    },
    {
     "cell_type": "code",
     "collapsed": false,
     "input": "pdist(raw_data[0]).shape",
     "language": "python",
     "metadata": {},
     "outputs": [
      {
       "metadata": {},
       "output_type": "pyout",
       "prompt_number": 79,
       "text": "(1613706,)"
      }
     ],
     "prompt_number": 79
    },
    {
     "cell_type": "code",
     "collapsed": false,
     "input": "pdist(X_pca).shape",
     "language": "python",
     "metadata": {},
     "outputs": [
      {
       "metadata": {},
       "output_type": "pyout",
       "prompt_number": 74,
       "text": "(1613706,)"
      }
     ],
     "prompt_number": 74
    },
    {
     "cell_type": "code",
     "collapsed": false,
     "input": "pl.scatter(pdist(X_pca),pdist(raw_data[0]))",
     "language": "python",
     "metadata": {},
     "outputs": [
      {
       "metadata": {},
       "output_type": "pyout",
       "prompt_number": 76,
       "text": "<matplotlib.collections.PathCollection at 0x10d33ce50>"
      },
      {
       "metadata": {},
       "output_type": "display_data",
       "png": "[encoded data removed]",
       "text": "<matplotlib.figure.Figure at 0x116fcaad0>"
      }
     ],
     "prompt_number": 76
    },
    {
     "cell_type": "code",
     "collapsed": false,
     "input": "from sklearn.linear_model import LinearRegression",
     "language": "python",
     "metadata": {},
     "outputs": [],
     "prompt_number": 77
    },
    {
     "cell_type": "code",
     "collapsed": false,
     "input": "lr = LinearRegression()\nlen_pdist = len(pdist(X_pca))\n\nlr.fit(pdist(raw_data[0]).reshape((len_pdist,1)),pdist(X_pca))",
     "language": "python",
     "metadata": {},
     "outputs": [
      {
       "metadata": {},
       "output_type": "pyout",
       "prompt_number": 84,
       "text": "LinearRegression(copy_X=True, fit_intercept=True, normalize=False)"
      }
     ],
     "prompt_number": 84
    },
    {
     "cell_type": "code",
     "collapsed": false,
     "input": "pred = pdist(raw_data[0]).reshape((len_pdist,1))\nthe_true_true = pdist(X_pca)",
     "language": "python",
     "metadata": {},
     "outputs": [],
     "prompt_number": 86
    },
    {
     "cell_type": "code",
     "collapsed": false,
     "input": "%timeit lr.fit(npr.randn(10).reshape((10,1)),npr.randn(10))",
     "language": "python",
     "metadata": {},
     "outputs": [
      {
       "output_type": "stream",
       "stream": "stdout",
       "text": "10000 loops, best of 3: 171 \u00b5s per loop\n"
      }
     ],
     "prompt_number": 85
    },
    {
     "cell_type": "code",
     "collapsed": false,
     "input": "lr.fit(pred.reshape((len_pdist,1)),the_true_true)\nlr.score(pred.reshape((len_pdist,1)),the_true_true)",
     "language": "python",
     "metadata": {},
     "outputs": [
      {
       "metadata": {},
       "output_type": "pyout",
       "prompt_number": 89,
       "text": "0.080704223334626679"
      }
     ],
     "prompt_number": 89
    },
    {
     "cell_type": "code",
     "collapsed": false,
     "input": "%%timeit\npred = pdist(raw_data[i]).reshape((len_pdist,1))\nlr.fit(pred.reshape((len_pdist,1)),the_true_true)\ndata[i] = lr.score(pred.reshape((len_pdist,1)),the_true_true)",
     "language": "python",
     "metadata": {},
     "outputs": [
      {
       "output_type": "stream",
       "stream": "stdout",
       "text": "10 loops, best of 3: 113 ms per loop\n"
      }
     ],
     "prompt_number": 92
    },
    {
     "cell_type": "code",
     "collapsed": false,
     "input": "sample_size = 100\ndata = np.zeros(sample_size)\n\nfor i in range(sample_size):\n    pred = pdist(raw_data[i]).reshape((len_pdist,1))\n    lr.fit(pred.reshape((len_pdist,1)),the_true_true)\n    data[i] = lr.score(pred.reshape((len_pdist,1)),the_true_true)",
     "language": "python",
     "metadata": {},
     "outputs": [],
     "prompt_number": 93
    },
    {
     "cell_type": "code",
     "collapsed": false,
     "input": "pl.hist(data,bins=50);",
     "language": "python",
     "metadata": {},
     "outputs": [
      {
       "metadata": {},
       "output_type": "display_data",
       "png": "[encoded data removed]",
       "text": "<matplotlib.figure.Figure at 0x10d3c59d0>"
      }
     ],
     "prompt_number": 94
    },
    {
     "cell_type": "code",
     "collapsed": false,
     "input": "from numba import jit, autojit, double, float64, float32, void, int32",
     "language": "python",
     "metadata": {},
     "outputs": [],
     "prompt_number": 95
    },
    {
     "cell_type": "code",
     "collapsed": false,
     "input": "project_jit = jit(double[:,:](double[:,:],double[:,:],double[:,:]))(project)",
     "language": "python",
     "metadata": {},
     "outputs": [],
     "prompt_number": 96
    },
    {
     "cell_type": "code",
     "collapsed": false,
     "input": "%timeit project_jit(X_pca,npr.randn(32,16),npr.randn(16,2))",
     "language": "python",
     "metadata": {},
     "outputs": [
      {
       "output_type": "stream",
       "stream": "stdout",
       "text": "1000 loops, best of 3: 519 \u00b5s per loop\n"
      }
     ],
     "prompt_number": 99
    },
    {
     "cell_type": "code",
     "collapsed": false,
     "input": "ae_7 = MLAutoencoder([32,16,2,16,32])",
     "language": "python",
     "metadata": {},
     "outputs": [],
     "prompt_number": 109
    },
    {
     "cell_type": "code",
     "collapsed": false,
     "input": "%timeit ae_7.transform(X_pca)",
     "language": "python",
     "metadata": {},
     "outputs": [
      {
       "output_type": "stream",
       "stream": "stdout",
       "text": "10 loops, best of 3: 31 ms per loop\n"
      }
     ],
     "prompt_number": 111
    },
    {
     "cell_type": "code",
     "collapsed": false,
     "input": "class MLAutoencoder():\n    def __init__(self,layer_dims=[32,16,8,4,2,4,8,16,32]):\n        self.layer_dims = layer_dims\n        self.W = []\n        for i in range(1,len(layer_dims)):\n            self.W.append(npr.randn(layer_dims[i-1],layer_dims[i]))\n        self.num_params = sum([np.prod(w.shape) for w in self.W])\n        self.bottleneck = np.argmin(np.array(layer_dims))\n        \n    def mats_to_vec(self,W):\n        w_vecs = []\n        for w in W:\n            w_vecs.append(np.reshape(w,np.prod(w.shape)))\n        return np.hstack(w_vecs)\n    \n    def vec_to_mats(self,w_vecs):\n        ind = 0\n        W = []\n        for i in range(len(self.W)):\n            size = np.prod(self.W[i].shape)\n            W.append(np.reshape(w_vecs[ind:ind+size],self.W[i].shape))\n            ind += size\n        return W\n    \n    def predict(self,X):\n        def predict_one(x):\n            L = x\n            for w in self.W:\n                L = sigmoid(L.dot(w))\n            return L\n        \n        if len(X.shape) > 1:\n            y = np.zeros(X.shape)\n            for i,x in enumerate(X):\n                y[i] = predict_one(x)\n        else:\n            y = predict_one(X)\n        return y\n\n    def transform(self,X):\n        def transform_one(x):\n            L = x\n            for i in range(self.bottleneck):\n                L = sigmoid(L.dot(self.W[i]))\n            return L\n        \n        if len(X.shape) > 1:\n            y = np.zeros((len(X),self.layer_dims[self.bottleneck]))\n            for i,x in enumerate(X):\n                y[i] = transform_one(x)\n        else:\n            y = transform_one(X)\n        return y\n        \n    def loss(self,y,y_pred):\n        return sum(abs(y-y_pred))\n    \n    def score(self,X):\n        X_pred = self.predict(X)\n        assert(X_pred.shape == X.shape)\n        \n        return sum([self.loss(pred,truth) for (pred,truth) in zip(X_pred, X)]) \n    \n    def gradient(self,func,x0,h=0.0001):\n        x0 = np.array(x0)#,dtype=float)\n        y = func(x0)\n        deriv = np.zeros(len(x0))\n        for i in range(len(x0)):\n            x = np.array(x0)\n            x[i] += h\n            deriv[i] = (func(x) - y)/h\n        return deriv\n    \n    def vec_score(self,w,X):\n        self.W = self.vec_to_mats(w)\n        return self.score(X)\n\n    def train(self,X_,batch_size=20,epochs=10,learning_rate=0.1):\n        def report(counter,epoch):\n            status = \"Epoch {1} loss: {0:.3f}\".format(self.score(X_),epoch)\n            print(status)\n            X_r = self.transform(X_)\n            pl.scatter(X_r[:,0],X_r[:,1],c=y,linewidth=0)\n            pl.xlim((0,1))\n            pl.ylim((0,1))\n            pl.title(status)\n            pl.savefig('Code/autoencoder/take7/{0}.jpg'.format(counter))\n            pl.close()\n        \n        n = len(X_) /batch_size\n        w = self.mats_to_vec(self.W)\n        \n        X = X_.copy()\n        \n        counter = 0\n        report(counter,0)\n        counter += 1\n        \n        start_cooling = 100\n        delta = learning_rate / (epochs - start_cooling)\n        \n        for t in range(epochs):\n            npr.shuffle(X)\n            \n            if t > start_cooling:\n                #learning_rate -= delta\n                learning_rate *= 0.95\n            \n            for i in range(n):\n                batch_X = X[i*batch_size:(i+1)*batch_size]\n                loss_func = lambda w : self.vec_score(w,batch_X)\n                w -= learning_rate * self.gradient(loss_func,w)\n            report(counter,t+1)\n            counter +=1",
     "language": "python",
     "metadata": {},
     "outputs": []
    }
   ],
   "metadata": {}
  }
 ]
}