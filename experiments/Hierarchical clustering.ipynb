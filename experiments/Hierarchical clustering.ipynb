{
 "metadata": {
  "name": "",
  "signature": "sha256:12a2c8ab57a51694e5df7a0f5d59d18957b6127b2f8dd7b7e61e848b8a192c18"
 },
 "nbformat": 3,
 "nbformat_minor": 0,
 "worksheets": [
  {
   "cells": [
    {
     "cell_type": "code",
     "collapsed": false,
     "input": [
      "import numpy as np\n",
      "import numpy.random as npr\n",
      "import pylab as pl\n",
      "%matplotlib"
     ],
     "language": "python",
     "metadata": {},
     "outputs": [
      {
       "output_type": "stream",
       "stream": "stdout",
       "text": [
        "Using matplotlib backend: MacOSX\n"
       ]
      }
     ],
     "prompt_number": 1
    },
    {
     "cell_type": "code",
     "collapsed": false,
     "input": [
      "from sklearn import datasets\n",
      "data = datasets.make_swiss_roll(1000,0.1)"
     ],
     "language": "python",
     "metadata": {},
     "outputs": [],
     "prompt_number": 3
    },
    {
     "cell_type": "code",
     "collapsed": false,
     "input": [
      "X = data[0]"
     ],
     "language": "python",
     "metadata": {},
     "outputs": [],
     "prompt_number": 7
    },
    {
     "cell_type": "code",
     "collapsed": false,
     "input": [
      "Y = data[1]"
     ],
     "language": "python",
     "metadata": {},
     "outputs": [],
     "prompt_number": 8
    },
    {
     "cell_type": "code",
     "collapsed": false,
     "input": [
      "X,Y = datasets.make_blobs(100,2)"
     ],
     "language": "python",
     "metadata": {},
     "outputs": [],
     "prompt_number": 74
    },
    {
     "cell_type": "code",
     "collapsed": false,
     "input": [
      "pl.scatter(X[:,0],X[:,1],c=Y)"
     ],
     "language": "python",
     "metadata": {},
     "outputs": [
      {
       "metadata": {},
       "output_type": "pyout",
       "prompt_number": 75,
       "text": [
        "<matplotlib.collections.PathCollection at 0x11445ead0>"
       ]
      }
     ],
     "prompt_number": 75
    },
    {
     "cell_type": "code",
     "collapsed": false,
     "input": [
      "clusters = [[x] for x in X]"
     ],
     "language": "python",
     "metadata": {},
     "outputs": [],
     "prompt_number": 124
    },
    {
     "cell_type": "code",
     "collapsed": false,
     "input": [
      "def d(a,b):\n",
      "    return np.sqrt(sum((a-b)**2))\n",
      "\n",
      "def single_linkage(A,B):\n",
      "    i,j = 0,0\n",
      "    min_dist = d(A[i],B[j])\n",
      "    for ix in range(len(A)):\n",
      "        for jx in range(len(B)):\n",
      "            if d(A[ix],B[jx]) < min_dist:\n",
      "                i,j = ix,jx\n",
      "    return d(A[i],B[j]),i,j"
     ],
     "language": "python",
     "metadata": {},
     "outputs": [],
     "prompt_number": 125
    },
    {
     "cell_type": "code",
     "collapsed": false,
     "input": [
      "single_linkage(clusters[0],clusters[1])"
     ],
     "language": "python",
     "metadata": {},
     "outputs": [
      {
       "metadata": {},
       "output_type": "pyout",
       "prompt_number": 126,
       "text": [
        "(2.0343784692274185, 0, 0)"
       ]
      }
     ],
     "prompt_number": 126
    },
    {
     "cell_type": "code",
     "collapsed": false,
     "input": [
      "len(clusters)"
     ],
     "language": "python",
     "metadata": {},
     "outputs": [
      {
       "metadata": {},
       "output_type": "pyout",
       "prompt_number": 127,
       "text": [
        "100"
       ]
      }
     ],
     "prompt_number": 127
    },
    {
     "cell_type": "code",
     "collapsed": false,
     "input": [
      "def find_closest_clusters(clusters):\n",
      "    i_min,j_min = 0,1\n",
      "    SL = []\n",
      "    min_SL = single_linkage(clusters[i_min],clusters[j_min])[0]\n",
      "    for i in range(len(clusters)):\n",
      "        for j in range(1,i):\n",
      "            SL_ij = single_linkage(clusters[i],clusters[j])[0]\n",
      "            SL.append(SL_ij)\n",
      "            if SL_ij < min_SL:\n",
      "                i_min,j_min = i,j\n",
      "    return i_min,j_min"
     ],
     "language": "python",
     "metadata": {},
     "outputs": [],
     "prompt_number": 128
    },
    {
     "cell_type": "code",
     "collapsed": false,
     "input": [],
     "language": "python",
     "metadata": {},
     "outputs": [],
     "prompt_number": 128
    },
    {
     "cell_type": "code",
     "collapsed": false,
     "input": [
      "i,j = find_closest_clusters(clusters)\n",
      "i,j"
     ],
     "language": "python",
     "metadata": {},
     "outputs": [
      {
       "metadata": {},
       "output_type": "pyout",
       "prompt_number": 129,
       "text": [
        "(99, 90)"
       ]
      }
     ],
     "prompt_number": 129
    },
    {
     "cell_type": "code",
     "collapsed": false,
     "input": [
      "c_i,c_j = clusters[i],clusters[j]\n",
      "c_i,c_j"
     ],
     "language": "python",
     "metadata": {},
     "outputs": [
      {
       "metadata": {},
       "output_type": "pyout",
       "prompt_number": 130,
       "text": [
        "([array([-3.74014511,  7.48070377])], [array([-3.567253  ,  6.91940706])])"
       ]
      }
     ],
     "prompt_number": 130
    },
    {
     "cell_type": "code",
     "collapsed": false,
     "input": [
      "del(clusters[i])"
     ],
     "language": "python",
     "metadata": {},
     "outputs": [],
     "prompt_number": 131
    },
    {
     "cell_type": "code",
     "collapsed": false,
     "input": [
      "del(clusters[j])"
     ],
     "language": "python",
     "metadata": {},
     "outputs": [],
     "prompt_number": 132
    },
    {
     "cell_type": "code",
     "collapsed": false,
     "input": [
      "len(clusters)"
     ],
     "language": "python",
     "metadata": {},
     "outputs": [
      {
       "metadata": {},
       "output_type": "pyout",
       "prompt_number": 133,
       "text": [
        "98"
       ]
      }
     ],
     "prompt_number": 133
    },
    {
     "cell_type": "code",
     "collapsed": false,
     "input": [
      "c_i"
     ],
     "language": "python",
     "metadata": {},
     "outputs": [
      {
       "metadata": {},
       "output_type": "pyout",
       "prompt_number": 134,
       "text": [
        "[array([-3.74014511,  7.48070377])]"
       ]
      }
     ],
     "prompt_number": 134
    },
    {
     "cell_type": "code",
     "collapsed": false,
     "input": [
      "c_j"
     ],
     "language": "python",
     "metadata": {},
     "outputs": [
      {
       "metadata": {},
       "output_type": "pyout",
       "prompt_number": 135,
       "text": [
        "[array([-3.567253  ,  6.91940706])]"
       ]
      }
     ],
     "prompt_number": 135
    },
    {
     "cell_type": "code",
     "collapsed": false,
     "input": [
      "c_ = c_i+ c_j\n",
      "c_"
     ],
     "language": "python",
     "metadata": {},
     "outputs": [
      {
       "metadata": {},
       "output_type": "pyout",
       "prompt_number": 137,
       "text": [
        "[array([-3.74014511,  7.48070377]), array([-3.567253  ,  6.91940706])]"
       ]
      }
     ],
     "prompt_number": 137
    },
    {
     "cell_type": "code",
     "collapsed": false,
     "input": [
      "clusters.append(c_)"
     ],
     "language": "python",
     "metadata": {},
     "outputs": [],
     "prompt_number": 138
    },
    {
     "cell_type": "code",
     "collapsed": false,
     "input": [
      "\n",
      "\n",
      "def agglomerative_clustering(data,target_clust=1):\n",
      "    clusters = [[x] for x in data]\n",
      "    while len(clusters) > target_clust:\n",
      "        i,j = find_closest_clusters(clusters)\n",
      "        c_ = clusters[i]+clusters[j]\n",
      "        del(clusters[i])\n",
      "        del(clusters[j])\n",
      "        clusters.append(c_)\n",
      "    return clusters"
     ],
     "language": "python",
     "metadata": {},
     "outputs": [],
     "prompt_number": 148
    },
    {
     "cell_type": "code",
     "collapsed": false,
     "input": [
      "def d_(a,b):\n",
      "    return np.sqrt(sum((a-b)**2))\n",
      "\n",
      "def single_linkage_(A,B):\n",
      "    i,j = 0,0\n",
      "    min_dist = d_(A[i],B[j])\n",
      "    for ix in range(len(A)):\n",
      "        for jx in range(len(B)):\n",
      "            if d_(A[ix],B[jx]) < min_dist:\n",
      "                i,j = ix,jx\n",
      "    return d_(A[i],B[j]),i,j\n",
      "\n",
      "def find_closest_clusters_(data,clusters):\n",
      "    i_min,j_min = 0,1\n",
      "    SL = []\n",
      "    min_SL = single_linkage_(data[clusters[i_min]],data[clusters[j_min]])[0]\n",
      "    for i in range(len(clusters)):\n",
      "        for j in range(1,i):\n",
      "            SL_ij,SL_i,SL_j = single_linkage_(data[clusters[i]],data[clusters[j]])\n",
      "            SL.append(SL_ij)\n",
      "            if SL_ij < min_SL:\n",
      "                i_min,j_min = i,j\n",
      "    return i_min,j_min\n",
      "\n",
      "def agglomerative_clustering_(data,target_clust=1):\n",
      "    idx = range(len(data))\n",
      "    clusters = [[i] for i in idx]\n",
      "    while len(clusters) > target_clust:\n",
      "        i,j = find_closest_clusters_(data,clusters)\n",
      "        c_ = clusters[i]+clusters[j]\n",
      "        del(clusters[i])\n",
      "        del(clusters[j])\n",
      "        clusters.append(c_)\n",
      "    return clusters"
     ],
     "language": "python",
     "metadata": {},
     "outputs": [],
     "prompt_number": 172
    },
    {
     "cell_type": "code",
     "collapsed": false,
     "input": [
      "clusters = agglomerative_clustering_(X,10)"
     ],
     "language": "python",
     "metadata": {},
     "outputs": [],
     "prompt_number": 173
    },
    {
     "cell_type": "code",
     "collapsed": false,
     "input": [],
     "language": "python",
     "metadata": {},
     "outputs": []
    },
    {
     "cell_type": "code",
     "collapsed": false,
     "input": [],
     "language": "python",
     "metadata": {},
     "outputs": []
    },
    {
     "cell_type": "code",
     "collapsed": false,
     "input": [
      "clusters = agglomerative_clustering(X,10)"
     ],
     "language": "python",
     "metadata": {},
     "outputs": [],
     "prompt_number": 149
    },
    {
     "cell_type": "code",
     "collapsed": false,
     "input": [
      "clusters"
     ],
     "language": "python",
     "metadata": {},
     "outputs": [
      {
       "metadata": {},
       "output_type": "pyout",
       "prompt_number": 150,
       "text": [
        "[[array([-7.81667122,  4.64425115])],\n",
        " [array([-9.53195833,  5.73809111])],\n",
        " [array([-6.8630112 ,  4.35535586])],\n",
        " [array([-9.02497314,  4.4362515 ])],\n",
        " [array([-7.84904371,  4.12112005])],\n",
        " [array([-10.46789657,   5.22821599])],\n",
        " [array([-9.78643799,  5.16267652])],\n",
        " [array([-3.74014511,  7.48070377]),\n",
        "  array([-3.567253  ,  6.91940706]),\n",
        "  array([-2.0473645 ,  7.93147851]),\n",
        "  array([-1.72203608,  8.65439761]),\n",
        "  array([-1.40647493,  8.42269607]),\n",
        "  array([-2.51181048,  6.74938617]),\n",
        "  array([-1.62254272,  5.09110176]),\n",
        "  array([-0.53839565,  6.50499882]),\n",
        "  array([-1.74794027,  5.43818583]),\n",
        "  array([-2.88253719,  9.10925395]),\n",
        "  array([-0.74954098,  6.26981377]),\n",
        "  array([ 0.50581463,  7.4535685 ]),\n",
        "  array([-3.8118264 ,  7.32607826]),\n",
        "  array([-2.43665756,  6.99432005]),\n",
        "  array([-2.50474253,  5.94667189]),\n",
        "  array([-1.17785978,  4.99782209]),\n",
        "  array([-2.84488308,  4.00825109]),\n",
        "  array([-5.31338383,  7.0707774 ]),\n",
        "  array([-7.11446948,  7.12241725]),\n",
        "  array([-7.0714006 ,  5.14148934]),\n",
        "  array([-7.63684144,  3.71370247]),\n",
        "  array([-8.3492588 ,  3.92972439]),\n",
        "  array([-7.26559834,  3.48021555]),\n",
        "  array([-7.33950546,  4.35919962]),\n",
        "  array([-8.4526524 ,  5.29457505]),\n",
        "  array([-8.52753773,  5.42311219]),\n",
        "  array([-7.84285054,  4.05374317]),\n",
        "  array([-8.03099279,  4.88136692]),\n",
        "  array([-9.0508696 ,  5.99207694]),\n",
        "  array([-8.82048242,  4.43845212]),\n",
        "  array([-7.72522315,  5.48074827]),\n",
        "  array([-8.68940317,  5.86831811]),\n",
        "  array([-8.17768576,  5.05817862]),\n",
        "  array([-6.82411307,  3.59344341]),\n",
        "  array([-6.99998585,  5.2441237 ]),\n",
        "  array([-4.38487598,  6.26903222]),\n",
        "  array([-2.51650154,  8.11684546]),\n",
        "  array([-3.34031219,  7.70486968]),\n",
        "  array([-3.17960454,  8.24238934]),\n",
        "  array([-3.51497733,  8.41483491]),\n",
        "  array([-3.23088154,  7.57367254]),\n",
        "  array([-3.69478398,  7.67164451]),\n",
        "  array([-2.64163656,  7.46616128]),\n",
        "  array([-1.52324795,  6.36757053]),\n",
        "  array([-2.51865615,  7.8151723 ]),\n",
        "  array([-3.40637605,  7.15629526]),\n",
        "  array([-2.14752263,  5.83614684]),\n",
        "  array([-1.43551119,  6.2081126 ]),\n",
        "  array([-2.23801103,  7.46839843]),\n",
        "  array([-3.90805764,  5.2019522 ])],\n",
        " [array([-5.15356045, -7.85696539]),\n",
        "  array([-5.33492486, -6.41191901]),\n",
        "  array([-7.15818057, -7.52581599]),\n",
        "  array([-5.84413817, -7.18474382]),\n",
        "  array([-5.61731159, -7.53695768]),\n",
        "  array([-4.98948042, -6.54956041]),\n",
        "  array([-6.50307701, -6.3614486 ]),\n",
        "  array([-5.90602245, -8.13347358]),\n",
        "  array([-6.09795349, -6.05503997]),\n",
        "  array([-5.65700828, -7.17268488]),\n",
        "  array([-6.2644111 , -5.98739449]),\n",
        "  array([-5.54937335, -7.22790985]),\n",
        "  array([-6.4144993 , -7.36347657]),\n",
        "  array([-6.43121594, -7.94474451]),\n",
        "  array([-5.21982193, -7.24062878]),\n",
        "  array([-6.25677519, -7.6429213 ]),\n",
        "  array([-6.92580852, -7.48667229]),\n",
        "  array([-4.31971953, -6.45057788]),\n",
        "  array([-5.98005893, -7.80199593]),\n",
        "  array([-4.17603772, -7.90476871]),\n",
        "  array([-6.10733695, -6.86199781]),\n",
        "  array([-6.74417994, -6.75963205]),\n",
        "  array([-4.67138355, -6.38718849]),\n",
        "  array([-4.45443568, -5.5627554 ]),\n",
        "  array([-5.44410342, -6.31949992]),\n",
        "  array([-6.23945828, -7.03899564]),\n",
        "  array([-5.18725394, -8.21543606]),\n",
        "  array([-6.29116073, -7.1674039 ]),\n",
        "  array([-5.29046659, -9.09998018]),\n",
        "  array([-7.06470083, -9.69648992]),\n",
        "  array([-6.04764554, -9.07770229]),\n",
        "  array([-5.7839467 , -7.02433741]),\n",
        "  array([-4.88668286, -7.2249585 ])],\n",
        " [array([-8.1432145 ,  3.29140405]),\n",
        "  array([-9.3537905 ,  4.66285705]),\n",
        "  array([-7.58024363,  3.49107728]),\n",
        "  array([-7.56377374,  3.89835036]),\n",
        "  array([-6.74249638,  5.54281561]),\n",
        "  array([-6.36056211,  4.99202763]),\n",
        "  array([-7.8410894 ,  6.03265188]),\n",
        "  array([-8.65009112,  5.43058466]),\n",
        "  array([-7.9128039 ,  6.38949575]),\n",
        "  array([-8.02884397,  4.71993948])]]"
       ]
      }
     ],
     "prompt_number": 150
    },
    {
     "cell_type": "code",
     "collapsed": false,
     "input": [],
     "language": "python",
     "metadata": {},
     "outputs": []
    }
   ],
   "metadata": {}
  }
 ]
}