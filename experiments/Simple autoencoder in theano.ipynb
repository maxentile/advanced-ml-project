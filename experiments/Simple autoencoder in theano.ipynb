{
 "metadata": {
  "name": "",
  "signature": "sha256:037d71823dd0db1ba0ee4ecc184d7bf843d78ced85941de45b2a88b4d2f9c8d7"
 },
 "nbformat": 3,
 "nbformat_minor": 0,
 "worksheets": [
  {
   "cells": [
    {
     "cell_type": "code",
     "collapsed": false,
     "input": [
      "import numpy as np\n",
      "import numpy.random as npr\n",
      "import theano as th\n",
      "import theano.tensor as T\n",
      "import pylab as pl\n",
      "%matplotlib inline"
     ],
     "language": "python",
     "metadata": {},
     "outputs": [],
     "prompt_number": 5
    },
    {
     "cell_type": "code",
     "collapsed": false,
     "input": [
      "class AE():\n",
      "    def __init__(self,dim=10,batch_size=10):\n",
      "        self.dim = dim\n",
      "        self.init_params()\n",
      "        self.create_gradient_functions()\n",
      "        self.batch_size=batch_size\n",
      "        \n",
      "    def init_params(self):\n",
      "        self.W1 = npr.randn(self.dim,self.dim)\n",
      "        self.W2 = npr.randn(self.dim,self.dim)\n",
      "        self.b1 = npr.randn(self.dim)\n",
      "        self.b2 = npr.randn(self.dim)\n",
      "    \n",
      "    def transform(self,x):\n",
      "        return self.W1.dot(x) + self.b1\n",
      "    \n",
      "    def reconstruct(self,x):\n",
      "        y = self.transform(x)\n",
      "        return self.W2.dot(y) + self.b2\n",
      "    \n",
      "    def create_gradient_functions(self):\n",
      "        W1,W2,x = T.dmatrices('W1','W2','x')\n",
      "        b1,b2 = T.cols('b1','b2')\n",
      "        hidden = T.nnet.sigmoid(T.dot(W1,x)+b1)\n",
      "        \n",
      "        reconstructed=T.dot(W2,hidden) + b2\n",
      "        grad_var = [W1,W2,b1,b2]\n",
      "        \n",
      "        reconstruction_error = T.sum((x-reconstructed)**2)\n",
      "        \n",
      "        #self.reconstruct = th.function()\n",
      "        \n",
      "        derivatives = T.grad(reconstruction_error,grad_var)\n",
      "        \n",
      "        self.gradientfunction = th.function(grad_var + [x],derivatives,on_unused_input='ignore')\n",
      "    \n",
      "    def get_gradients(self,mini_batch):\n",
      "        \n",
      "    \n",
      "    def iterate(self,data):\n",
      "        N,dim = data.shape\n",
      "        batches=np.arange(0,N,self.batch_size)\n",
      "        if batches[-1] != N:\n",
      "            batches = np.append(batches,N)\n",
      "        for i in xrange(len(batches) - 2):\n",
      "            mini_batch = data[batches[i]:batches[i+1]]\n",
      "            total_grad = self."
     ],
     "language": "python",
     "metadata": {},
     "outputs": [],
     "prompt_number": 69
    },
    {
     "cell_type": "code",
     "collapsed": false,
     "input": [
      "ae = AE()"
     ],
     "language": "python",
     "metadata": {},
     "outputs": [],
     "prompt_number": 70
    },
    {
     "cell_type": "code",
     "collapsed": false,
     "input": [
      "x = npr.randn(10)"
     ],
     "language": "python",
     "metadata": {},
     "outputs": [],
     "prompt_number": 93
    },
    {
     "cell_type": "code",
     "collapsed": false,
     "input": [
      "np.sum((ae.reconstruct(x) - x)**2)"
     ],
     "language": "python",
     "metadata": {},
     "outputs": [
      {
       "metadata": {},
       "output_type": "pyout",
       "prompt_number": 94,
       "text": [
        "1924.7402276858072"
       ]
      }
     ],
     "prompt_number": 94
    },
    {
     "cell_type": "code",
     "collapsed": false,
     "input": [
      "ae.gradientfunction(x)"
     ],
     "language": "python",
     "metadata": {},
     "outputs": [
      {
       "ename": "TypeError",
       "evalue": "('Bad input argument to theano function with name \"<ipython-input-69-7f4d02e22e9a>:34\"  at index 0(0-based)', 'Wrong number of dimensions: expected 2, got 1 with shape (10,).')",
       "output_type": "pyerr",
       "traceback": [
        "\u001b[0;31m---------------------------------------------------------------------------\u001b[0m\n\u001b[0;31mTypeError\u001b[0m                                 Traceback (most recent call last)",
        "\u001b[0;32m<ipython-input-83-b7cef5938ac0>\u001b[0m in \u001b[0;36m<module>\u001b[0;34m()\u001b[0m\n\u001b[0;32m----> 1\u001b[0;31m \u001b[0mae\u001b[0m\u001b[0;34m.\u001b[0m\u001b[0mgradientfunction\u001b[0m\u001b[0;34m(\u001b[0m\u001b[0mx\u001b[0m\u001b[0;34m)\u001b[0m\u001b[0;34m\u001b[0m\u001b[0m\n\u001b[0m",
        "\u001b[0;32m/Users/joshuafass/Library/Enthought/Canopy_64bit/User/lib/python2.7/site-packages/Theano-0.6.0-py2.7.egg/theano/compile/function_module.pyc\u001b[0m in \u001b[0;36m__call__\u001b[0;34m(self, *args, **kwargs)\u001b[0m\n\u001b[1;32m    495\u001b[0m                     \u001b[0;32mtry\u001b[0m\u001b[0;34m:\u001b[0m\u001b[0;34m\u001b[0m\u001b[0m\n\u001b[1;32m    496\u001b[0m                         s.storage[0] = s.type.filter(arg, strict=s.strict,\n\u001b[0;32m--> 497\u001b[0;31m                                 allow_downcast=s.allow_downcast)\n\u001b[0m\u001b[1;32m    498\u001b[0m \u001b[0;34m\u001b[0m\u001b[0m\n\u001b[1;32m    499\u001b[0m                     \u001b[0;32mexcept\u001b[0m \u001b[0mException\u001b[0m\u001b[0;34m,\u001b[0m \u001b[0me\u001b[0m\u001b[0;34m:\u001b[0m\u001b[0;34m\u001b[0m\u001b[0m\n",
        "\u001b[0;32m/Users/joshuafass/Library/Enthought/Canopy_64bit/User/lib/python2.7/site-packages/Theano-0.6.0-py2.7.egg/theano/tensor/type.pyc\u001b[0m in \u001b[0;36mfilter\u001b[0;34m(self, data, strict, allow_downcast)\u001b[0m\n\u001b[1;32m    155\u001b[0m             raise TypeError(\"Wrong number of dimensions: expected %s,\"\n\u001b[1;32m    156\u001b[0m                             \" got %s with shape %s.\" % (self.ndim, data.ndim,\n\u001b[0;32m--> 157\u001b[0;31m                                                         data.shape))\n\u001b[0m\u001b[1;32m    158\u001b[0m         \u001b[0;32mif\u001b[0m \u001b[0;32mnot\u001b[0m \u001b[0mdata\u001b[0m\u001b[0;34m.\u001b[0m\u001b[0mflags\u001b[0m\u001b[0;34m.\u001b[0m\u001b[0maligned\u001b[0m\u001b[0;34m:\u001b[0m\u001b[0;34m\u001b[0m\u001b[0m\n\u001b[1;32m    159\u001b[0m             \u001b[0;32mtry\u001b[0m\u001b[0;34m:\u001b[0m\u001b[0;34m\u001b[0m\u001b[0m\n",
        "\u001b[0;31mTypeError\u001b[0m: ('Bad input argument to theano function with name \"<ipython-input-69-7f4d02e22e9a>:34\"  at index 0(0-based)', 'Wrong number of dimensions: expected 2, got 1 with shape (10,).')"
       ]
      }
     ],
     "prompt_number": 83
    },
    {
     "cell_type": "code",
     "collapsed": false,
     "input": [],
     "language": "python",
     "metadata": {},
     "outputs": []
    }
   ],
   "metadata": {}
  }
 ]
}