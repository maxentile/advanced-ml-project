{
 "metadata": {
  "name": "",
  "signature": "sha256:3ca1ad924f72c990ec19409ebaba00c21f5ead850e859bc8ed44c4044c98e5a2"
 },
 "nbformat": 3,
 "nbformat_minor": 0,
 "worksheets": [
  {
   "cells": [
    {
     "cell_type": "code",
     "collapsed": false,
     "input": [
      "import numpy as np\n",
      "import pylab as pl\n",
      "%matplotlib inline\n",
      "pl.rcParams['font.family']='Serif'"
     ],
     "language": "python",
     "metadata": {},
     "outputs": [],
     "prompt_number": 6
    },
    {
     "cell_type": "markdown",
     "metadata": {},
     "source": [
      "High-level overview of the FLOW-MAP algorithm:\n",
      "- Cluster the dataset\n",
      "- Build a graph over the clusters\n",
      "- Apply force-directed layout"
     ]
    },
    {
     "cell_type": "code",
     "collapsed": false,
     "input": [
      "X = np.random.randn(1000,2)"
     ],
     "language": "python",
     "metadata": {},
     "outputs": [],
     "prompt_number": 7
    },
    {
     "cell_type": "code",
     "collapsed": false,
     "input": [
      "# downsampling:\n",
      "# 1. Estimating density\n",
      "# 2. Choosing as a function of density"
     ],
     "language": "python",
     "metadata": {},
     "outputs": [],
     "prompt_number": 8
    },
    {
     "cell_type": "code",
     "collapsed": false,
     "input": [
      "from sklearn import neighbors"
     ],
     "language": "python",
     "metadata": {},
     "outputs": [],
     "prompt_number": 9
    },
    {
     "cell_type": "code",
     "collapsed": false,
     "input": [
      "k = 10"
     ],
     "language": "python",
     "metadata": {},
     "outputs": [],
     "prompt_number": 10
    },
    {
     "cell_type": "code",
     "collapsed": false,
     "input": [
      "knn = neighbors.NearestNeighbors()"
     ],
     "language": "python",
     "metadata": {},
     "outputs": [],
     "prompt_number": 11
    },
    {
     "cell_type": "code",
     "collapsed": false,
     "input": [
      "knn.fit(X)"
     ],
     "language": "python",
     "metadata": {},
     "outputs": [
      {
       "metadata": {},
       "output_type": "pyout",
       "prompt_number": 12,
       "text": [
        "NearestNeighbors(algorithm='auto', leaf_size=30, metric='minkowski',\n",
        "         metric_params=None, n_neighbors=5, p=2, radius=1.0)"
       ]
      }
     ],
     "prompt_number": 12
    },
    {
     "cell_type": "code",
     "collapsed": false,
     "input": [],
     "language": "python",
     "metadata": {},
     "outputs": [],
     "prompt_number": 12
    },
    {
     "cell_type": "code",
     "collapsed": false,
     "input": [
      "def local_density_k(X,k=10,metric=None):\n",
      "    if metric != None:\n",
      "        bt = neighbors.BallTree(X,200,metric=metric)\n",
      "        neighbor_graph = neighbors.kneighbors_graph(X,k,'distance')\n",
      "    else:\n",
      "        neighbor_graph = neighbors.kneighbors_graph(X,k,'distance')\n",
      "    distances = np.array(neighbor_graph.mean(1))[:,0]\n",
      "    return 1-((distances - distances.min())/(distances.max() - distances.min()))"
     ],
     "language": "python",
     "metadata": {},
     "outputs": [],
     "prompt_number": 13
    },
    {
     "cell_type": "code",
     "collapsed": false,
     "input": [
      "def local_density_r(X,r=0.1,metric=None):\n",
      "    if metric != None:\n",
      "        bt = neighbors.BallTree(X,200,metric=metric)\n",
      "        neighbor_graph = neighbors.radius_neighbors_graph(bt,r)\n",
      "    else:\n",
      "        neighbor_graph = neighbors.radius_neighbors_graph(X,r)\n",
      "    counts = np.array(neighbor_graph.sum(1))[:,0]\n",
      "    return ((counts - counts.min())/(counts.max() - counts.min()))"
     ],
     "language": "python",
     "metadata": {},
     "outputs": [],
     "prompt_number": 14
    },
    {
     "cell_type": "code",
     "collapsed": false,
     "input": [
      "def compute_accept_prob(densities,\n",
      "                        outlier_density_percentile=1.0,\n",
      "                        target_density_percentile=3.0):\n",
      "    ''' densities is a vector of densities '''\n",
      "    OD = np.percentile(densities,outlier_density_percentile)\n",
      "    TD = np.percentile(densities,target_density_percentile)\n",
      "    \n",
      "    #print(OD,TD)\n",
      "    accept_prob = np.zeros(len(densities))\n",
      "    \n",
      "    for i,LD in enumerate(densities):\n",
      "        if LD < OD:\n",
      "            accept_prob[i] = 0\n",
      "        elif LD > OD and LD <= TD:\n",
      "            accept_prob[i] = 1\n",
      "        elif LD > TD:\n",
      "            accept_prob[i] = TD/LD\n",
      "            \n",
      "    # output \n",
      "    return accept_prob"
     ],
     "language": "python",
     "metadata": {},
     "outputs": [],
     "prompt_number": 15
    },
    {
     "cell_type": "code",
     "collapsed": false,
     "input": [
      "x = np.random.randn(10000)"
     ],
     "language": "python",
     "metadata": {},
     "outputs": [],
     "prompt_number": 16
    },
    {
     "cell_type": "code",
     "collapsed": false,
     "input": [
      "pl.hist(x,bins=50);"
     ],
     "language": "python",
     "metadata": {},
     "outputs": [
      {
       "metadata": {},
       "output_type": "display_data",
       "png": "[encoded data removed]",
       "text": [
        "<matplotlib.figure.Figure at 0x10e7bb050>"
       ]
      }
     ],
     "prompt_number": 17
    },
    {
     "cell_type": "code",
     "collapsed": false,
     "input": [],
     "language": "python",
     "metadata": {},
     "outputs": [],
     "prompt_number": 17
    },
    {
     "cell_type": "code",
     "collapsed": false,
     "input": [
      "densities = np.random.randn(1000)+10"
     ],
     "language": "python",
     "metadata": {},
     "outputs": [],
     "prompt_number": 18
    },
    {
     "cell_type": "code",
     "collapsed": false,
     "input": [
      "ap = compute_accept_prob(densities)"
     ],
     "language": "python",
     "metadata": {},
     "outputs": [],
     "prompt_number": 19
    },
    {
     "cell_type": "code",
     "collapsed": false,
     "input": [
      "pl.scatter(densities,ap)"
     ],
     "language": "python",
     "metadata": {},
     "outputs": [
      {
       "metadata": {},
       "output_type": "pyout",
       "prompt_number": 20,
       "text": [
        "<matplotlib.collections.PathCollection at 0x110a1ecd0>"
       ]
      },
      {
       "metadata": {},
       "output_type": "display_data",
       "png": "[encoded data removed]",
       "text": [
        "<matplotlib.figure.Figure at 0x1104b4b90>"
       ]
      }
     ],
     "prompt_number": 20
    },
    {
     "cell_type": "code",
     "collapsed": false,
     "input": [
      "densities[(densities<8.1631259434) * (densities>7.71169482942)]"
     ],
     "language": "python",
     "metadata": {},
     "outputs": [
      {
       "metadata": {},
       "output_type": "pyout",
       "prompt_number": 21,
       "text": [
        "array([ 8.15851434,  8.12451417,  7.75186286,  7.95183983,  7.71602212,\n",
        "        8.00087246,  7.85041777,  8.0032515 ,  8.05398745,  7.72760175,\n",
        "        8.05316315,  7.78089859,  7.95665332,  7.78644069,  7.97201151,\n",
        "        7.90523761,  7.72817021,  8.10680589,  8.06742309,  8.0375628 ,\n",
        "        7.85417807,  7.89940928])"
       ]
      }
     ],
     "prompt_number": 21
    },
    {
     "cell_type": "code",
     "collapsed": false,
     "input": [
      "np.percentile(np.random.randn(1000),50.0)"
     ],
     "language": "python",
     "metadata": {},
     "outputs": [
      {
       "metadata": {},
       "output_type": "pyout",
       "prompt_number": 22,
       "text": [
        "0.0038274552182344743"
       ]
      }
     ],
     "prompt_number": 22
    },
    {
     "cell_type": "code",
     "collapsed": false,
     "input": [
      "def accept_according_to_probs(accept_prob):\n",
      "    ''' just output indices'''\n",
      "    return accept_prob > np.random.rand(len(accept_prob))"
     ],
     "language": "python",
     "metadata": {},
     "outputs": [],
     "prompt_number": 23
    },
    {
     "cell_type": "code",
     "collapsed": false,
     "input": [
      "from sklearn import neighbors\n",
      "from sklearn.neighbors import KernelDensity\n",
      "\n",
      "def generate_blobs(num_samples=5000,separation=8):\n",
      "    centers = np.array([[0,0],[1,0],[0,1],[1,1]],dtype=float)\n",
      "    centers -= 0.5\n",
      "    centers = np.vstack((centers,#centers*2,centers*3,\n",
      "                         #centers*4,centers*5,centers*6,\n",
      "                         #centers*7,centers*8,centers*9,\n",
      "                         #centers*10,centers*11,centers*12,\n",
      "                         #centers*13,centers*14,\n",
      "                         [0,0]))\n",
      "    centers *= separation\n",
      "    kde = KernelDensity()\n",
      "    kde.fit(centers)\n",
      "    samples = kde.sample(num_samples)\n",
      "    density = kde.score_samples(samples)\n",
      "    return samples,density\n",
      "\n",
      "samples,density = generate_blobs(5000,10)"
     ],
     "language": "python",
     "metadata": {},
     "outputs": [],
     "prompt_number": 24
    },
    {
     "cell_type": "code",
     "collapsed": false,
     "input": [
      "pl.scatter(samples[:,0],samples[:,1],linewidths=0,alpha=0.1)"
     ],
     "language": "python",
     "metadata": {},
     "outputs": [
      {
       "metadata": {},
       "output_type": "pyout",
       "prompt_number": 25,
       "text": [
        "<matplotlib.collections.PathCollection at 0x110468d50>"
       ]
      },
      {
       "metadata": {},
       "output_type": "display_data",
       "png": "[encoded data removed]",
       "text": [
        "<matplotlib.figure.Figure at 0x110a0c910>"
       ]
      }
     ],
     "prompt_number": 25
    },
    {
     "cell_type": "code",
     "collapsed": false,
     "input": [
      "est_density = local_density_k(samples)"
     ],
     "language": "python",
     "metadata": {},
     "outputs": [],
     "prompt_number": 26
    },
    {
     "cell_type": "code",
     "collapsed": false,
     "input": [
      "pl.hist(est_density,bins=50);"
     ],
     "language": "python",
     "metadata": {},
     "outputs": [
      {
       "metadata": {},
       "output_type": "display_data",
       "png": "[encoded data removed]",
       "text": [
        "<matplotlib.figure.Figure at 0x1104b2dd0>"
       ]
      }
     ],
     "prompt_number": 27
    },
    {
     "cell_type": "code",
     "collapsed": false,
     "input": [
      "accept_prob = compute_accept_prob(est_density)"
     ],
     "language": "python",
     "metadata": {},
     "outputs": [],
     "prompt_number": 28
    },
    {
     "cell_type": "code",
     "collapsed": false,
     "input": [
      "accept_ind = accept_according_to_probs(accept_prob)"
     ],
     "language": "python",
     "metadata": {},
     "outputs": [],
     "prompt_number": 29
    },
    {
     "cell_type": "code",
     "collapsed": false,
     "input": [
      "downsampled = samples[accept_ind]"
     ],
     "language": "python",
     "metadata": {},
     "outputs": [],
     "prompt_number": 30
    },
    {
     "cell_type": "code",
     "collapsed": false,
     "input": [
      "pl.scatter(downsampled[:,0],downsampled[:,1],linewidths=0,alpha=0.1)"
     ],
     "language": "python",
     "metadata": {},
     "outputs": [
      {
       "metadata": {},
       "output_type": "pyout",
       "prompt_number": 31,
       "text": [
        "<matplotlib.collections.PathCollection at 0x110c45510>"
       ]
      },
      {
       "metadata": {},
       "output_type": "display_data",
       "png": "[encoded data removed]",
       "text": [
        "<matplotlib.figure.Figure at 0x1104b2c90>"
       ]
      }
     ],
     "prompt_number": 31
    },
    {
     "cell_type": "code",
     "collapsed": false,
     "input": [
      "len(downsampled),len(samples)"
     ],
     "language": "python",
     "metadata": {},
     "outputs": [
      {
       "metadata": {},
       "output_type": "pyout",
       "prompt_number": 32,
       "text": [
        "(3788, 5000)"
       ]
      }
     ],
     "prompt_number": 32
    },
    {
     "cell_type": "code",
     "collapsed": false,
     "input": [],
     "language": "python",
     "metadata": {},
     "outputs": [],
     "prompt_number": 32
    },
    {
     "cell_type": "code",
     "collapsed": false,
     "input": [
      "from sklearn.cluster import AgglomerativeClustering"
     ],
     "language": "python",
     "metadata": {},
     "outputs": [],
     "prompt_number": 33
    },
    {
     "cell_type": "code",
     "collapsed": false,
     "input": [
      "# compare with other clustering algorithms"
     ],
     "language": "python",
     "metadata": {},
     "outputs": [],
     "prompt_number": 34
    },
    {
     "cell_type": "code",
     "collapsed": false,
     "input": [
      "target_clust_num = 200\n",
      "cluster_model = AgglomerativeClustering(target_clust_num)\n",
      "C = cluster_model.fit_predict(downsampled)"
     ],
     "language": "python",
     "metadata": {},
     "outputs": [],
     "prompt_number": 35
    },
    {
     "cell_type": "code",
     "collapsed": false,
     "input": [],
     "language": "python",
     "metadata": {},
     "outputs": [],
     "prompt_number": 35
    },
    {
     "cell_type": "code",
     "collapsed": false,
     "input": [],
     "language": "python",
     "metadata": {},
     "outputs": []
    },
    {
     "cell_type": "code",
     "collapsed": false,
     "input": [
      "min(C),max(C)"
     ],
     "language": "python",
     "metadata": {},
     "outputs": [
      {
       "metadata": {},
       "output_type": "pyout",
       "prompt_number": 36,
       "text": [
        "(0, 199)"
       ]
      }
     ],
     "prompt_number": 36
    },
    {
     "cell_type": "code",
     "collapsed": false,
     "input": [
      "C==0"
     ],
     "language": "python",
     "metadata": {},
     "outputs": [
      {
       "metadata": {},
       "output_type": "pyout",
       "prompt_number": 41,
       "text": [
        "array([False, False, False, ..., False, False, False], dtype=bool)"
       ]
      }
     ],
     "prompt_number": 41
    },
    {
     "cell_type": "code",
     "collapsed": false,
     "input": [
      "C.shape,X.shape,downsampled.shape"
     ],
     "language": "python",
     "metadata": {},
     "outputs": [
      {
       "metadata": {},
       "output_type": "pyout",
       "prompt_number": 42,
       "text": [
        "((3788,), (1000, 2), (3788, 2))"
       ]
      }
     ],
     "prompt_number": 42
    },
    {
     "cell_type": "code",
     "collapsed": false,
     "input": [
      "len(set(C)),max(C)"
     ],
     "language": "python",
     "metadata": {},
     "outputs": [
      {
       "metadata": {},
       "output_type": "pyout",
       "prompt_number": 43,
       "text": [
        "(200, 199)"
       ]
      }
     ],
     "prompt_number": 43
    },
    {
     "cell_type": "code",
     "collapsed": false,
     "input": [
      "X.T.shape"
     ],
     "language": "python",
     "metadata": {},
     "outputs": [
      {
       "metadata": {},
       "output_type": "pyout",
       "prompt_number": 44,
       "text": [
        "(2, 1000)"
       ]
      }
     ],
     "prompt_number": 44
    },
    {
     "cell_type": "code",
     "collapsed": false,
     "input": [
      "# compute cluster centers given cluster assignments\n",
      "def compute_cluster_centers(X,C):\n",
      "    centers = np.zeros((len(set(C)),len(X.T)))\n",
      "    for i in set(C):\n",
      "        points = X[C==i]\n",
      "        centers[i] = np.mean(points,0)\n",
      "    return centers"
     ],
     "language": "python",
     "metadata": {},
     "outputs": [],
     "prompt_number": 45
    },
    {
     "cell_type": "code",
     "collapsed": false,
     "input": [
      "centers = compute_cluster_centers(downsampled,C)"
     ],
     "language": "python",
     "metadata": {},
     "outputs": [],
     "prompt_number": 46
    },
    {
     "cell_type": "code",
     "collapsed": false,
     "input": [
      "centers.shape"
     ],
     "language": "python",
     "metadata": {},
     "outputs": [
      {
       "metadata": {},
       "output_type": "pyout",
       "prompt_number": 47,
       "text": [
        "(200, 2)"
       ]
      }
     ],
     "prompt_number": 47
    },
    {
     "cell_type": "code",
     "collapsed": false,
     "input": [
      "from scipy.spatial import distance\n",
      "pdist = distance.pdist(centers)\n",
      "distmat = distance.squareform(pdist)"
     ],
     "language": "python",
     "metadata": {},
     "outputs": [],
     "prompt_number": 48
    },
    {
     "cell_type": "code",
     "collapsed": false,
     "input": [
      "pl.imshow(distmat,interpolation='none')"
     ],
     "language": "python",
     "metadata": {},
     "outputs": [
      {
       "metadata": {},
       "output_type": "pyout",
       "prompt_number": 49,
       "text": [
        "<matplotlib.image.AxesImage at 0x1102f0410>"
       ]
      },
      {
       "metadata": {},
       "output_type": "display_data",
       "png": "[encoded data removed]",
       "text": [
        "<matplotlib.figure.Figure at 0x110a2ca90>"
       ]
      }
     ],
     "prompt_number": 49
    },
    {
     "cell_type": "code",
     "collapsed": false,
     "input": [
      "r = np.percentile(pdist,1.0)\n",
      "r"
     ],
     "language": "python",
     "metadata": {},
     "outputs": [
      {
       "metadata": {},
       "output_type": "pyout",
       "prompt_number": 73,
       "text": [
        "0.6943251677682194"
       ]
      }
     ],
     "prompt_number": 73
    },
    {
     "cell_type": "code",
     "collapsed": false,
     "input": [
      "adj = (distmat < r)"
     ],
     "language": "python",
     "metadata": {},
     "outputs": [],
     "prompt_number": 51
    },
    {
     "cell_type": "code",
     "collapsed": false,
     "input": [
      "num_neighbors = local_density_r(centers,r)\n",
      "num_neighbors.shape"
     ],
     "language": "python",
     "metadata": {},
     "outputs": [
      {
       "metadata": {},
       "output_type": "pyout",
       "prompt_number": 75,
       "text": [
        "(200,)"
       ]
      }
     ],
     "prompt_number": 75
    },
    {
     "cell_type": "code",
     "collapsed": false,
     "input": [
      "pl.hist(num_neighbors,bins=len(set(num_neighbors)));"
     ],
     "language": "python",
     "metadata": {},
     "outputs": [
      {
       "metadata": {},
       "output_type": "display_data",
       "png": "[encoded data removed]",
       "text": [
        "<matplotlib.figure.Figure at 0x11a0db0d0>"
       ]
      }
     ],
     "prompt_number": 82
    },
    {
     "cell_type": "code",
     "collapsed": false,
     "input": [
      "sorted_clust_id = sorted(range(len(num_neighbors)),key=lambda i:num_neighbors[i])"
     ],
     "language": "python",
     "metadata": {},
     "outputs": [],
     "prompt_number": 77
    },
    {
     "cell_type": "code",
     "collapsed": false,
     "input": [
      "min_edges = 2\n",
      "max_edges = 20"
     ],
     "language": "python",
     "metadata": {},
     "outputs": [],
     "prompt_number": 83
    },
    {
     "cell_type": "code",
     "collapsed": false,
     "input": [
      "def num_edges(densities,min_edges=2,max_edges=20):\n",
      "    ''' pass in an array of densities'''\n",
      "    assert(len(densities)>1)\n",
      "    min_density = np.min(densities)\n",
      "    max_density = np.max(densities)\n",
      "    lambdas = densities / (max_density - min_density)\n",
      "    return np.array(min_edges + lambdas*(max_edges - min_edges),dtype=int)"
     ],
     "language": "python",
     "metadata": {},
     "outputs": [],
     "prompt_number": 91
    },
    {
     "cell_type": "code",
     "collapsed": false,
     "input": [
      "num_edges_array = num_edges(num_neighbors)\n",
      "num_edges_array"
     ],
     "language": "python",
     "metadata": {},
     "outputs": [
      {
       "metadata": {},
       "output_type": "pyout",
       "prompt_number": 98,
       "text": [
        "array([ 2,  8,  5,  8, 17,  2, 14,  8,  2,  2, 14,  5,  5,  2,  8,  2,  8,\n",
        "        5,  5,  2,  2, 11, 14,  5,  5,  8,  8,  2, 11,  2, 14, 14,  2,  5,\n",
        "        2,  2,  2,  8,  8, 14,  5,  2, 20, 14,  2,  2,  5,  2,  2, 14,  5,\n",
        "        2,  8,  2, 14,  2, 14,  8, 20, 11,  2,  2, 17,  8, 20, 14, 14,  2,\n",
        "        5,  5,  5,  5,  5,  5,  2, 11, 14,  8,  2,  5,  8,  8, 11,  5,  5,\n",
        "        2, 17,  8, 11,  5,  2,  5,  5,  5, 14, 17, 11, 11,  8, 11, 14,  2,\n",
        "        2,  2,  8,  2, 14,  8,  5,  8,  2, 17,  5, 17, 20,  2,  5,  8, 14,\n",
        "       11,  5,  8,  2,  2, 14,  8, 14, 14, 17, 11,  2, 17, 11, 14, 11,  2,\n",
        "        5, 17,  2, 14,  2,  2,  5,  5,  2, 14, 14,  5, 11,  2,  2, 17, 11,\n",
        "       20,  2, 14,  2, 14, 14,  2,  2,  8,  2,  5,  2,  8,  8, 14, 11,  8,\n",
        "       17,  8,  8, 11,  8,  2, 17,  2,  8, 11, 17, 14,  2,  5,  2,  8,  2,\n",
        "       11,  5, 11,  5, 14, 14, 20,  8,  2, 17, 11,  8,  5])"
       ]
      }
     ],
     "prompt_number": 98
    },
    {
     "cell_type": "code",
     "collapsed": false,
     "input": [
      "nn = neighbors.NearestNeighbors(max_edges+1)\n",
      "nn.fit(centers)"
     ],
     "language": "python",
     "metadata": {},
     "outputs": [
      {
       "metadata": {},
       "output_type": "pyout",
       "prompt_number": 95,
       "text": [
        "NearestNeighbors(algorithm='auto', leaf_size=30, metric='minkowski',\n",
        "         metric_params=None, n_neighbors=21, p=2, radius=1.0)"
       ]
      }
     ],
     "prompt_number": 95
    },
    {
     "cell_type": "code",
     "collapsed": false,
     "input": [
      "num_edges_array[0]"
     ],
     "language": "python",
     "metadata": {},
     "outputs": [
      {
       "metadata": {},
       "output_type": "pyout",
       "prompt_number": 100,
       "text": [
        "2"
       ]
      }
     ],
     "prompt_number": 100
    },
    {
     "cell_type": "code",
     "collapsed": false,
     "input": [
      "nn.kneighbors(centers[0],num_edges_array[0]+1)"
     ],
     "language": "python",
     "metadata": {},
     "outputs": [
      {
       "metadata": {},
       "output_type": "pyout",
       "prompt_number": 123,
       "text": [
        "(array([[ 0.        ,  0.77189023,  0.89534493]]), array([[  0, 107, 125]]))"
       ]
      }
     ],
     "prompt_number": 123
    },
    {
     "cell_type": "code",
     "collapsed": false,
     "input": [],
     "language": "python",
     "metadata": {},
     "outputs": []
    },
    {
     "cell_type": "code",
     "collapsed": false,
     "input": [
      "nn.kneighbors(centers[0],num_edges_array[0]+1)[1][0][1:]"
     ],
     "language": "python",
     "metadata": {},
     "outputs": [
      {
       "metadata": {},
       "output_type": "pyout",
       "prompt_number": 106,
       "text": [
        "array([107, 125])"
       ]
      }
     ],
     "prompt_number": 106
    },
    {
     "cell_type": "code",
     "collapsed": false,
     "input": [
      "G = nx.Graph()"
     ],
     "language": "python",
     "metadata": {},
     "outputs": [],
     "prompt_number": 107
    },
    {
     "cell_type": "code",
     "collapsed": false,
     "input": [
      "G.add_edge(0,107)"
     ],
     "language": "python",
     "metadata": {},
     "outputs": [],
     "prompt_number": 109
    },
    {
     "cell_type": "code",
     "collapsed": false,
     "input": [
      "G.nodes()"
     ],
     "language": "python",
     "metadata": {},
     "outputs": [
      {
       "metadata": {},
       "output_type": "pyout",
       "prompt_number": 112,
       "text": [
        "[0, 107]"
       ]
      }
     ],
     "prompt_number": 112
    },
    {
     "cell_type": "code",
     "collapsed": false,
     "input": [
      "i=0\n",
      "dist,neigh = nn.kneighbors(centers[i],num_edges_array[i]+1)\n",
      "dist,neigh"
     ],
     "language": "python",
     "metadata": {},
     "outputs": [
      {
       "metadata": {},
       "output_type": "pyout",
       "prompt_number": 138,
       "text": [
        "(array([[ 0.        ,  0.77189023,  0.89534493]]), array([[  0, 107, 125]]))"
       ]
      }
     ],
     "prompt_number": 138
    },
    {
     "cell_type": "code",
     "collapsed": false,
     "input": [
      "for j in range(1,len(dist)):\n",
      "    print(dist[j])"
     ],
     "language": "python",
     "metadata": {},
     "outputs": [],
     "prompt_number": 139
    },
    {
     "cell_type": "code",
     "collapsed": false,
     "input": [
      "def construct_graph(centers,num_edges_array):\n",
      "    G = nx.Graph()\n",
      "    for i in range(len(centers)):\n",
      "        distances,neighbors = nn.kneighbors(centers[i],num_edges_array[i]+1)\n",
      "        distances = distances[0]\n",
      "        neighbors = neighbors[0]\n",
      "        for j in range(1,len(distances)):\n",
      "            G.add_edge(i,neighbors[j],weight=distances[j])\n",
      "    return G"
     ],
     "language": "python",
     "metadata": {},
     "outputs": [],
     "prompt_number": 152
    },
    {
     "cell_type": "code",
     "collapsed": false,
     "input": [
      "G = construct_graph(centers,num_edges_array)"
     ],
     "language": "python",
     "metadata": {},
     "outputs": [],
     "prompt_number": 153
    },
    {
     "cell_type": "code",
     "collapsed": false,
     "input": [
      "G.nodes()"
     ],
     "language": "python",
     "metadata": {},
     "outputs": [
      {
       "metadata": {},
       "output_type": "pyout",
       "prompt_number": 154,
       "text": [
        "[0,\n",
        " 1,\n",
        " 2,\n",
        " 3,\n",
        " 4,\n",
        " 5,\n",
        " 6,\n",
        " 7,\n",
        " 8,\n",
        " 9,\n",
        " 10,\n",
        " 11,\n",
        " 12,\n",
        " 13,\n",
        " 14,\n",
        " 15,\n",
        " 16,\n",
        " 17,\n",
        " 18,\n",
        " 19,\n",
        " 20,\n",
        " 21,\n",
        " 22,\n",
        " 23,\n",
        " 24,\n",
        " 25,\n",
        " 26,\n",
        " 27,\n",
        " 28,\n",
        " 29,\n",
        " 30,\n",
        " 31,\n",
        " 32,\n",
        " 33,\n",
        " 34,\n",
        " 35,\n",
        " 36,\n",
        " 37,\n",
        " 38,\n",
        " 39,\n",
        " 40,\n",
        " 41,\n",
        " 42,\n",
        " 43,\n",
        " 44,\n",
        " 45,\n",
        " 46,\n",
        " 47,\n",
        " 48,\n",
        " 49,\n",
        " 50,\n",
        " 51,\n",
        " 52,\n",
        " 53,\n",
        " 54,\n",
        " 55,\n",
        " 56,\n",
        " 57,\n",
        " 58,\n",
        " 59,\n",
        " 60,\n",
        " 61,\n",
        " 62,\n",
        " 63,\n",
        " 64,\n",
        " 65,\n",
        " 66,\n",
        " 67,\n",
        " 68,\n",
        " 69,\n",
        " 70,\n",
        " 71,\n",
        " 72,\n",
        " 73,\n",
        " 74,\n",
        " 75,\n",
        " 76,\n",
        " 77,\n",
        " 78,\n",
        " 79,\n",
        " 80,\n",
        " 81,\n",
        " 82,\n",
        " 83,\n",
        " 84,\n",
        " 85,\n",
        " 86,\n",
        " 87,\n",
        " 88,\n",
        " 89,\n",
        " 90,\n",
        " 91,\n",
        " 92,\n",
        " 93,\n",
        " 94,\n",
        " 95,\n",
        " 96,\n",
        " 97,\n",
        " 98,\n",
        " 99,\n",
        " 100,\n",
        " 101,\n",
        " 102,\n",
        " 103,\n",
        " 104,\n",
        " 105,\n",
        " 106,\n",
        " 107,\n",
        " 108,\n",
        " 109,\n",
        " 110,\n",
        " 111,\n",
        " 112,\n",
        " 113,\n",
        " 114,\n",
        " 115,\n",
        " 116,\n",
        " 117,\n",
        " 118,\n",
        " 119,\n",
        " 120,\n",
        " 121,\n",
        " 122,\n",
        " 123,\n",
        " 124,\n",
        " 125,\n",
        " 126,\n",
        " 127,\n",
        " 128,\n",
        " 129,\n",
        " 130,\n",
        " 131,\n",
        " 132,\n",
        " 133,\n",
        " 134,\n",
        " 135,\n",
        " 136,\n",
        " 137,\n",
        " 138,\n",
        " 139,\n",
        " 140,\n",
        " 141,\n",
        " 142,\n",
        " 143,\n",
        " 144,\n",
        " 145,\n",
        " 146,\n",
        " 147,\n",
        " 148,\n",
        " 149,\n",
        " 150,\n",
        " 151,\n",
        " 152,\n",
        " 153,\n",
        " 154,\n",
        " 155,\n",
        " 156,\n",
        " 157,\n",
        " 158,\n",
        " 159,\n",
        " 160,\n",
        " 161,\n",
        " 162,\n",
        " 163,\n",
        " 164,\n",
        " 165,\n",
        " 166,\n",
        " 167,\n",
        " 168,\n",
        " 169,\n",
        " 170,\n",
        " 171,\n",
        " 172,\n",
        " 173,\n",
        " 174,\n",
        " 175,\n",
        " 176,\n",
        " 177,\n",
        " 178,\n",
        " 179,\n",
        " 180,\n",
        " 181,\n",
        " 182,\n",
        " 183,\n",
        " 184,\n",
        " 185,\n",
        " 186,\n",
        " 187,\n",
        " 188,\n",
        " 189,\n",
        " 190,\n",
        " 191,\n",
        " 192,\n",
        " 193,\n",
        " 194,\n",
        " 195,\n",
        " 196,\n",
        " 197,\n",
        " 198,\n",
        " 199]"
       ]
      }
     ],
     "prompt_number": 154
    },
    {
     "cell_type": "code",
     "collapsed": false,
     "input": [
      "for line in nx.generate_edgelist(G):\n",
      "    print(line)"
     ],
     "language": "python",
     "metadata": {},
     "outputs": [
      {
       "output_type": "stream",
       "stream": "stdout",
       "text": [
        "0 192 {'weight': 1.5313260669115492}\n",
        "0 107 {'weight': 0.77189023040744298}\n",
        "0 109 {'weight': 0.97956080290717518}\n",
        "0 175 {'weight': 1.1859385044075383}\n",
        "0 125 {'weight': 0.89534493238547386}\n",
        "0 62 {'weight': 1.2665480396303497}\n",
        "1 66 {'weight': 1.2023553450538875}\n",
        "1 104 {'weight': 0.67255692798888189}\n",
        "1 75 {'weight': 0.97190481639845383}\n",
        "1 45 {'weight': 1.0250597256008278}\n",
        "1 14 {'weight': 0.54207578212241758}\n",
        "1 8 {'weight': 1.0143338678428608}\n",
        "1 155 {'weight': 0.72323050134730493}\n",
        "1 124 {'weight': 0.91826834660684564}\n",
        "1 158 {'weight': 1.1873552523513102}\n",
        "2 68 {'weight': 0.78413732476582965}\n",
        "2 40 {'weight': 1.3262652440614036}\n",
        "2 137 {'weight': 1.133860098622095}\n",
        "2 171 {'weight': 1.1780802484453141}\n",
        "2 111 {'weight': 1.5967641216331678}\n",
        "2 178 {'weight': 0.95774309124779178}\n",
        "2 56 {'weight': 1.1476617335990598}\n",
        "2 157 {'weight': 1.0471242943115562}\n",
        "2 94 {'weight': 1.4667422858956556}\n",
        "2 127 {'weight': 0.60159680963572049}\n",
        "3 131 {'weight': 1.4198482699079198}\n",
        "3 196 {'weight': 0.80630200474442493}\n",
        "3 133 {'weight': 1.2237304242306619}\n",
        "3 70 {'weight': 0.92551471663620066}\n",
        "3 108 {'weight': 0.6950700578273683}\n",
        "3 145 {'weight': 0.68749452328453209}\n",
        "3 114 {'weight': 0.4967198173365962}\n",
        "3 180 {'weight': 1.1541127266315656}\n",
        "3 181 {'weight': 0.72329270384511246}\n",
        "3 31 {'weight': 1.2145606533425617}\n",
        "3 188 {'weight': 0.81005900852207879}\n",
        "3 95 {'weight': 0.98568706694085084}\n",
        "4 193 {'weight': 0.6136115626326909}\n",
        "4 99 {'weight': 1.198552772355238}\n",
        "4 118 {'weight': 0.58774519422865112}\n",
        "4 168 {'weight': 0.48651540514442665}\n",
        "4 106 {'weight': 0.9557076482872493}\n",
        "4 139 {'weight': 1.1938584140610105}\n",
        "4 172 {'weight': 1.0441455223311713}\n",
        "4 46 {'weight': 1.1754970321775231}\n",
        "4 21 {'weight': 1.1852119135990273}\n",
        "4 54 {'weight': 0.84460212722763373}\n",
        "4 23 {'weight': 1.3290861863763717}\n",
        "4 153 {'weight': 0.61107079388028296}\n",
        "4 58 {'weight': 0.63178668451720055}\n",
        "4 187 {'weight': 1.2435344609628662}\n",
        "4 26 {'weight': 1.153084185031896}\n",
        "4 126 {'weight': 0.91710172593248485}\n",
        "4 63 {'weight': 0.89766906515317224}\n",
        "5 66 {'weight': 1.0581618333849059}\n",
        "5 14 {'weight': 0.71644113039649415}\n",
        "5 79 {'weight': 0.74632100860288886}\n",
        "5 16 {'weight': 0.72433160018335874}\n",
        "5 51 {'weight': 0.79165853374735817}\n",
        "5 148 {'weight': 1.1782762700482576}\n",
        "5 155 {'weight': 1.1424394016546906}\n",
        "6 66 {'weight': 0.80046759051879868}\n",
        "6 179 {'weight': 1.2506627488687605}\n",
        "6 7 {'weight': 0.89732753352886585}\n",
        "6 137 {'weight': 0.52570183626668499}\n",
        "6 94 {'weight': 1.2177596461256699}\n",
        "6 111 {'weight': 0.56325804457372719}\n",
        "6 147 {'weight': 1.2037611644687296}\n",
        "6 158 {'weight': 0.46208813895024575}\n",
        "6 56 {'weight': 1.0701144072684179}\n",
        "6 155 {'weight': 0.94936938463861154}\n",
        "6 124 {'weight': 0.95503864152199058}\n",
        "6 157 {'weight': 0.78964847260846793}\n",
        "6 30 {'weight': 0.67109555756342054}\n",
        "6 127 {'weight': 1.03917313760494}\n",
        "7 147 {'weight': 0.78170518660210508}\n",
        "7 137 {'weight': 1.148661137573898}\n",
        "7 75 {'weight': 1.052068852815637}\n",
        "7 111 {'weight': 0.65240326410528005}\n",
        "7 179 {'weight': 0.60215649614489397}\n",
        "7 150 {'weight': 0.99270675572917078}\n",
        "7 56 {'weight': 1.2639908369565065}\n",
        "7 155 {'weight': 1.3016932316185921}\n",
        "7 124 {'weight': 0.80456475070712163}\n",
        "7 158 {'weight': 1.0070564431754248}\n",
        "8 51 {'weight': 0.93872646733860077}\n",
        "8 14 {'weight': 1.017178684942353}\n",
        "9 144 {'weight': 0.80929656616130374}\n",
        "9 75 {'weight': 1.0761014573412613}\n",
        "9 179 {'weight': 1.003024376567812}\n",
        "9 150 {'weight': 0.72843564274234984}\n",
        "10 129 {'weight': 0.51214316240432056}\n",
        "10 34 {'weight': 0.84034424782777439}\n",
        "10 132 {'weight': 0.51225714910808284}\n",
        "10 197 {'weight': 0.8983569372092205}\n",
        "10 134 {'weight': 1.1931412065146707}\n",
        "10 65 {'weight': 1.2348230693626803}\n",
        "10 107 {'weight': 1.1730404668053513}\n",
        "10 109 {'weight': 1.0811155414752029}\n",
        "10 176 {'weight': 1.1639596487347059}\n",
        "10 113 {'weight': 0.61139542652430012}\n",
        "10 146 {'weight': 1.1723957798931302}\n",
        "10 86 {'weight': 0.54518265555530632}\n",
        "10 25 {'weight': 0.94650434618764689}\n",
        "10 62 {'weight': 1.2057264033454067}\n",
        "11 160 {'weight': 0.8497043420871071}\n",
        "11 131 {'weight': 0.57191495384549751}\n",
        "11 133 {'weight': 1.0243437630148731}\n",
        "11 105 {'weight': 0.83651764420209962}\n",
        "11 114 {'weight': 1.6083008944991768}\n",
        "11 180 {'weight': 1.1337236915041198}\n",
        "11 22 {'weight': 0.79087994916593285}\n",
        "11 119 {'weight': 1.1847651495414739}\n",
        "11 189 {'weight': 0.70604205998804004}\n",
        "11 95 {'weight': 1.0269363889352303}\n",
        "12 96 {'weight': 0.90971428493708406}\n",
        "12 65 {'weight': 0.5691775591680901}\n",
        "12 98 {'weight': 0.74153924457332954}\n",
        "12 198 {'weight': 0.94899451439087823}\n",
        "12 194 {'weight': 1.1000958779516476}\n",
        "12 176 {'weight': 1.1864933028245861}\n",
        "12 146 {'weight': 0.70924039830165997}\n",
        "12 86 {'weight': 1.2241682129751315}\n",
        "12 183 {'weight': 0.77893648589930653}\n",
        "12 91 {'weight': 0.75244376223944731}\n",
        "13 148 {'weight': 0.79762259492149534}\n",
        "13 94 {'weight': 1.2218557380888273}\n",
        "13 79 {'weight': 0.98626080395194082}\n",
        "14 66 {'weight': 0.82472554124860886}\n",
        "14 75 {'weight': 1.3695712522001124}\n",
        "14 16 {'weight': 0.89144305258890799}\n",
        "14 104 {'weight': 1.1988137731348179}\n",
        "14 30 {'weight': 1.3395278497148662}\n",
        "14 155 {'weight': 0.56127458901801419}\n",
        "14 124 {'weight': 1.0890224876206636}\n",
        "14 158 {'weight': 1.023809007715937}\n",
        "15 50 {'weight': 0.87798348154006811}\n",
        "15 71 {'weight': 0.81913538138979936}\n",
        "16 66 {'weight': 0.50927947207923963}\n",
        "16 158 {'weight': 1.0011368920692414}\n",
        "16 79 {'weight': 0.70712344504012081}\n",
        "16 148 {'weight': 0.69176831610898737}\n",
        "16 94 {'weight': 0.8317514799325153}\n",
        "16 155 {'weight': 0.91489514410767636}\n",
        "16 157 {'weight': 1.19200263859308}\n",
        "16 30 {'weight': 0.74314379695453936}\n",
        "17 193 {'weight': 1.6054626018976419}\n",
        "17 163 {'weight': 1.1040837806956469}\n",
        "17 106 {'weight': 1.1525973294040157}\n",
        "17 172 {'weight': 0.77345963924431438}\n",
        "17 18 {'weight': 1.1758424484115244}\n",
        "17 118 {'weight': 1.3847813091039018}\n",
        "17 153 {'weight': 1.0890925246931502}\n",
        "17 187 {'weight': 0.68163220969121485}\n",
        "18 99 {'weight': 0.67624717991165206}\n",
        "18 166 {'weight': 1.2222915929060307}\n",
        "18 172 {'weight': 0.71042675865544758}\n",
        "18 118 {'weight': 0.94560143257930596}\n",
        "18 153 {'weight': 1.2482413133591073}\n",
        "19 80 {'weight': 1.1035780476478301}\n",
        "19 28 {'weight': 1.2020858041135021}\n",
        "19 117 {'weight': 0.94678830523266932}\n",
        "19 149 {'weight': 1.1503852186532952}\n",
        "20 96 {'weight': 1.0846929122405282}\n",
        "20 192 {'weight': 1.2968217081127806}\n",
        "20 198 {'weight': 0.72003207014396042}\n",
        "20 176 {'weight': 1.5474459893348127}\n",
        "20 24 {'weight': 1.04737889298816}\n",
        "20 91 {'weight': 1.0570792265856988}\n",
        "21 193 {'weight': 0.81059517342568954}\n",
        "21 168 {'weight': 1.1996587269055257}\n",
        "21 169 {'weight': 0.61155655580229495}\n",
        "21 106 {'weight': 1.2448502876763201}\n",
        "21 139 {'weight': 0.71836412855401921}\n",
        "21 90 {'weight': 1.0949037893583975}\n",
        "21 153 {'weight': 1.4386083813657731}\n",
        "21 120 {'weight': 0.83788704979858852}\n",
        "21 185 {'weight': 1.1739491064383065}\n",
        "21 58 {'weight': 0.66260886769353977}\n",
        "21 26 {'weight': 0.74616784014578519}\n",
        "21 126 {'weight': 0.4093145185359805}\n",
        "22 165 {'weight': 1.2946585232817476}\n",
        "22 131 {'weight': 0.68026450909202829}\n",
        "22 100 {'weight': 0.69711852743941138}\n",
        "22 133 {'weight': 1.1940652129568143}\n",
        "22 105 {'weight': 0.83315780342416346}\n",
        "22 114 {'weight': 1.1245452876204796}\n",
        "22 43 {'weight': 1.3986662404311239}\n",
        "22 82 {'weight': 1.0166622150620175}\n",
        "22 180 {'weight': 0.47894939552292637}\n",
        "22 181 {'weight': 1.0829814522078289}\n",
        "22 119 {'weight': 0.52318284883406596}\n",
        "22 88 {'weight': 0.96546076325829333}\n",
        "22 196 {'weight': 1.0921651834806376}\n",
        "22 189 {'weight': 1.2457755067711269}\n",
        "22 95 {'weight': 0.67769256019525459}\n",
        "23 33 {'weight': 0.91488666479079406}\n",
        "23 166 {'weight': 1.0671778254199074}\n",
        "23 168 {'weight': 0.95183338467187417}\n",
        "23 46 {'weight': 0.84635274809565775}\n",
        "23 112 {'weight': 0.7866522265796041}\n",
        "23 54 {'weight': 0.54388814627345006}\n",
        "23 58 {'weight': 1.4470501801187468}\n",
        "23 92 {'weight': 0.83400506523607409}\n",
        "23 63 {'weight': 0.70896140091215387}\n",
        "24 192 {'weight': 0.45433983898016861}\n",
        "24 96 {'weight': 0.94284875032431759}\n",
        "24 101 {'weight': 0.77275071030121445}\n",
        "24 198 {'weight': 1.0304483046288975}\n",
        "24 176 {'weight': 1.0184656488956398}\n",
        "24 113 {'weight': 1.4923134131203548}\n",
        "24 125 {'weight': 0.82721108981779723}\n",
        "24 62 {'weight': 0.93394936897385195}\n",
        "25 65 {'weight': 0.67446494556609971}\n",
        "25 194 {'weight': 0.69679381075984026}\n",
        "25 37 {'weight': 1.0761274711906161}\n",
        "25 134 {'weight': 1.0668710526414635}\n",
        "25 161 {'weight': 0.89971709841464564}\n",
        "25 129 {'weight': 0.77870130989342445}\n",
        "25 98 {'weight': 1.0267880946035459}\n",
        "25 176 {'weight': 1.3965784685859937}\n",
        "25 113 {'weight': 1.1952763893083103}\n",
        "25 146 {'weight': 1.0118898712200441}\n",
        "25 86 {'weight': 0.61031085513166017}\n",
        "25 197 {'weight': 1.2218344526195748}\n",
        "26 193 {'weight': 1.1736691511596555}\n",
        "26 168 {'weight': 0.86134987705784172}\n",
        "26 169 {'weight': 1.0305416939070766}\n",
        "26 139 {'weight': 1.3854029053575123}\n",
        "26 46 {'weight': 0.71567871834776653}\n",
        "26 54 {'weight': 1.0521321943364041}\n",
        "26 89 {'weight': 0.99320630418875344}\n",
        "26 120 {'weight': 0.75939280707788359}\n",
        "26 185 {'weight': 0.50241092719315117}\n",
        "26 58 {'weight': 0.55533495381421327}\n",
        "26 126 {'weight': 0.96688453213068903}\n",
        "27 81 {'weight': 0.87449257646044232}\n",
        "27 130 {'weight': 0.87600375860136137}\n",
        "27 131 {'weight': 1.4254754215046839}\n",
        "27 189 {'weight': 0.82859493659989047}\n",
        "27 133 {'weight': 1.2900060888572968}\n",
        "28 128 {'weight': 0.91777131006059343}\n",
        "28 64 {'weight': 1.6041044719850306}\n",
        "28 136 {'weight': 0.62502836351967261}\n",
        "28 170 {'weight': 1.0891158851995657}\n",
        "28 80 {'weight': 0.67303491957028994}\n",
        "28 49 {'weight': 1.3109396847975432}\n",
        "28 50 {'weight': 1.2852359193553637}\n",
        "28 52 {'weight': 1.0657069176956953}\n",
        "28 149 {'weight': 1.2195412556785215}\n",
        "28 152 {'weight': 0.58065193837553108}\n",
        "28 117 {'weight': 1.3787852437048815}\n",
        "28 42 {'weight': 1.4104885965237688}\n",
        "28 191 {'weight': 1.2707488590705187}\n",
        "29 89 {'weight': 0.71914975645452317}\n",
        "29 185 {'weight': 0.90645625310319733}\n",
        "30 66 {'weight': 0.517296164351846}\n",
        "30 137 {'weight': 0.86408495072011315}\n",
        "30 79 {'weight': 1.3449685894963983}\n",
        "30 171 {'weight': 0.94844912778077517}\n",
        "30 111 {'weight': 1.192060812678065}\n",
        "30 148 {'weight': 0.98192123647893048}\n",
        "30 158 {'weight': 0.70280158905741841}\n",
        "30 56 {'weight': 1.4977130571348427}\n",
        "30 155 {'weight': 1.0022160454468452}\n",
        "30 124 {'weight': 1.3605563600762496}\n",
        "30 157 {'weight': 0.4914834313984347}\n",
        "30 94 {'weight': 0.57362789607214781}\n",
        "30 127 {'weight': 1.1298499915302802}\n",
        "31 97 {'weight': 1.1324114959357492}\n",
        "31 100 {'weight': 0.58458813184687142}\n",
        "31 70 {'weight': 1.2413343308806768}\n",
        "31 38 {'weight': 0.69982523593283441}\n",
        "31 43 {'weight': 1.3276596779031127}\n",
        "31 173 {'weight': 0.45757362850760397}\n",
        "31 142 {'weight': 1.1914856225193724}\n",
        "31 145 {'weight': 0.5936221930391623}\n",
        "31 114 {'weight': 0.88206511038496316}\n",
        "31 180 {'weight': 0.90142362588549407}\n",
        "31 87 {'weight': 1.1032185909957253}\n",
        "31 88 {'weight': 0.74302186123756708}\n",
        "31 196 {'weight': 0.46865300766389306}\n",
        "31 95 {'weight': 1.1916336932069926}\n",
        "32 56 {'weight': 1.5998062225796603}\n",
        "32 147 {'weight': 0.84063222919556924}\n",
        "32 150 {'weight': 0.70543860242466816}\n",
        "32 111 {'weight': 1.3817605792618606}\n",
        "33 99 {'weight': 1.3632011560619557}\n",
        "33 166 {'weight': 0.78618096781067925}\n",
        "33 135 {'weight': 1.2875953437919105}\n",
        "33 92 {'weight': 0.58133550610002216}\n",
        "33 63 {'weight': 1.0431436484144638}\n",
        "34 129 {'weight': 0.92803736457225749}\n",
        "34 132 {'weight': 0.70634251773831691}\n",
        "34 197 {'weight': 0.80781925372055607}\n",
        "34 134 {'weight': 1.3306988190750046}\n",
        "34 109 {'weight': 0.86910177016942725}\n",
        "34 143 {'weight': 0.91100360873878228}\n",
        "34 113 {'weight': 1.2860167422326714}\n",
        "34 86 {'weight': 1.3845003961813755}\n",
        "34 123 {'weight': 1.0172456919757265}\n",
        "35 81 {'weight': 0.76672274838676535}\n",
        "35 108 {'weight': 0.80001279605405851}\n",
        "35 133 {'weight': 1.0290763706162183}\n",
        "35 189 {'weight': 1.3452781303089041}\n",
        "35 181 {'weight': 1.2518757671430509}\n",
        "36 98 {'weight': 0.96561480452831117}\n",
        "36 183 {'weight': 0.76503545365933567}\n",
        "37 161 {'weight': 0.65275490554873339}\n",
        "37 194 {'weight': 1.1460703309406837}\n",
        "37 197 {'weight': 1.2079940344741855}\n",
        "37 134 {'weight': 0.6889551440978019}\n",
        "37 129 {'weight': 1.1799626730323935}\n",
        "37 53 {'weight': 0.97453281046913165}\n",
        "37 154 {'weight': 0.83877565204418136}\n",
        "38 97 {'weight': 1.2065091690843199}\n",
        "38 196 {'weight': 1.0646581542956142}\n",
        "38 70 {'weight': 1.1096259080018589}\n",
        "38 173 {'weight': 0.58135091573710163}\n",
        "38 142 {'weight': 0.62922684468257717}\n",
        "38 141 {'weight': 1.1002246311120731}\n",
        "38 145 {'weight': 0.89248805647295548}\n",
        "38 114 {'weight': 1.4204688736596249}\n",
        "38 87 {'weight': 0.84380836147084093}\n",
        "39 64 {'weight': 0.53242754524630664}\n",
        "39 128 {'weight': 1.4096186293306239}\n",
        "39 167 {'weight': 1.0667170108798036}\n",
        "39 44 {'weight': 0.96941092488760472}\n",
        "39 42 {'weight': 0.9013279335998351}\n",
        "39 76 {'weight': 0.63769106107361018}\n",
        "39 77 {'weight': 0.95876888749074574}\n",
        "39 174 {'weight': 0.47804858744032219}\n",
        "39 116 {'weight': 0.9232572170612422}\n",
        "39 151 {'weight': 0.60295340255863628}\n",
        "39 57 {'weight': 1.1298334765199729}\n",
        "39 52 {'weight': 1.424364251301923}\n",
        "39 170 {'weight': 1.0488307634251681}\n",
        "39 191 {'weight': 1.0445792690249684}\n",
        "40 56 {'weight': 1.2436998448263612}\n",
        "40 178 {'weight': 0.64690628840730591}\n",
        "40 78 {'weight': 1.2083542098416171}\n",
        "40 127 {'weight': 1.4317443306845925}\n",
        "41 136 {'weight': 0.83067712965808005}\n",
        "41 50 {'weight': 0.94236532035592124}\n",
        "41 149 {'weight': 1.1077490589526173}\n",
        "42 64 {'weight': 0.5421207580140377}\n",
        "42 128 {'weight': 0.54434502002903029}\n",
        "42 69 {'weight': 0.9674758111642261}\n",
        "42 167 {'weight': 0.46607957196936128}\n",
        "42 136 {'weight': 1.6333313463906165}\n",
        "42 73 {'weight': 1.2524531383411388}\n",
        "42 170 {'weight': 0.44785528913037337}\n",
        "42 76 {'weight': 1.0160019239162232}\n",
        "42 174 {'weight': 1.3615814283648247}\n",
        "42 80 {'weight': 1.2077740981897072}\n",
        "42 49 {'weight': 0.61213810834133175}\n",
        "42 52 {'weight': 1.1692540506035161}\n",
        "42 57 {'weight': 1.4827265530141345}\n",
        "42 151 {'weight': 0.56225560306737266}\n",
        "42 152 {'weight': 0.85818675045821224}\n",
        "42 116 {'weight': 1.1876962988823307}\n",
        "42 59 {'weight': 1.2558025761933223}\n",
        "42 191 {'weight': 0.89123767400668663}\n",
        "43 97 {'weight': 0.6600802596980252}\n",
        "43 100 {'weight': 1.1548514567261914}\n",
        "43 165 {'weight': 0.92923910827589806}\n",
        "43 87 {'weight': 1.2018776988430144}\n",
        "43 173 {'weight': 1.1109678417427333}\n",
        "43 48 {'weight': 0.88031781625125394}\n",
        "43 82 {'weight': 0.52097660551286029}\n",
        "43 180 {'weight': 1.4797536910423756}\n",
        "43 119 {'weight': 0.91396456299429396}\n",
        "43 88 {'weight': 0.64813890034080146}\n",
        "43 121 {'weight': 0.68097579890892157}\n",
        "43 55 {'weight': 1.4786757777228106}\n",
        "44 64 {'weight': 1.3155137325093347}\n",
        "44 67 {'weight': 0.76178551145032192}\n",
        "44 76 {'weight': 0.98318586004815223}\n",
        "44 77 {'weight': 1.1506092528663501}\n",
        "44 174 {'weight': 0.72907940599164878}\n",
        "44 57 {'weight': 1.053731053319054}\n",
        "44 61 {'weight': 0.76702924027420716}\n",
        "45 104 {'weight': 0.86046935442571393}\n",
        "46 193 {'weight': 1.518871853148678}\n",
        "46 168 {'weight': 0.69502265226591586}\n",
        "46 89 {'weight': 0.93893535160238017}\n",
        "46 54 {'weight': 0.55035455887444029}\n",
        "46 185 {'weight': 0.74513992454791622}\n",
        "46 58 {'weight': 0.89434127440980182}\n",
        "46 190 {'weight': 0.69832413853765107}\n",
        "47 151 {'weight': 1.4307303253911254}\n",
        "47 116 {'weight': 0.84357095295399465}\n",
        "47 199 {'weight': 0.80797033940100804}\n",
        "48 97 {'weight': 1.3763141666188681}\n",
        "48 165 {'weight': 0.8470015300397008}\n",
        "48 82 {'weight': 0.9802994677518756}\n",
        "48 121 {'weight': 0.84702844351265238}\n",
        "48 93 {'weight': 1.2067381779907105}\n",
        "49 128 {'weight': 0.47535689766781641}\n",
        "49 64 {'weight': 1.1489331132143714}\n",
        "49 69 {'weight': 0.81855909376861813}\n",
        "49 167 {'weight': 0.561337448949078}\n",
        "49 73 {'weight': 0.71339618046659192}\n",
        "49 80 {'weight': 0.8329375492859814}\n",
        "49 117 {'weight': 1.2625419936167359}\n",
        "49 151 {'weight': 1.003713329431432}\n",
        "49 152 {'weight': 0.93903967403417321}\n",
        "49 59 {'weight': 0.64807747826060813}\n",
        "49 170 {'weight': 0.84920593356356877}\n",
        "49 191 {'weight': 1.3694105450044824}\n",
        "50 64 {'weight': 1.6009518796156579}\n",
        "50 71 {'weight': 0.83472912085990847}\n",
        "50 136 {'weight': 0.69433664987216959}\n",
        "50 170 {'weight': 1.3905535031378338}\n",
        "50 52 {'weight': 0.67032162780102411}\n",
        "50 152 {'weight': 1.2332896083133051}\n",
        "50 191 {'weight': 1.023921232233939}\n",
        "52 64 {'weight': 0.94997744920323512}\n",
        "52 128 {'weight': 1.085729349805661}\n",
        "52 136 {'weight': 0.76635048207693912}\n",
        "52 71 {'weight': 0.87966695746825718}\n",
        "52 76 {'weight': 0.89350329193577527}\n",
        "52 152 {'weight': 0.72759905136488767}\n",
        "52 57 {'weight': 0.87931291009068546}\n",
        "52 170 {'weight': 0.73298745786708086}\n",
        "52 191 {'weight': 0.38044904350204817}\n",
        "53 197 {'weight': 1.0874772693667973}\n",
        "53 134 {'weight': 0.77862951163099547}\n",
        "53 143 {'weight': 1.0906082942097077}\n",
        "54 193 {'weight': 1.3632151528824428}\n",
        "54 99 {'weight': 1.3718555921806901}\n",
        "54 166 {'weight': 1.2230904622442051}\n",
        "54 168 {'weight': 0.41351571304651435}\n",
        "54 112 {'weight': 1.116429074543124}\n",
        "54 118 {'weight': 1.1111799550509056}\n",
        "54 153 {'weight': 1.4339726590107178}\n",
        "54 185 {'weight': 1.2576753853725517}\n",
        "54 58 {'weight': 0.90618111970484805}\n",
        "54 190 {'weight': 1.1233284189643244}\n",
        "54 63 {'weight': 0.64388070152030441}\n",
        "55 97 {'weight': 0.94008680482030704}\n",
        "55 121 {'weight': 0.99764583283204189}\n",
        "55 87 {'weight': 0.82989127495358683}\n",
        "56 137 {'weight': 0.6350882826921046}\n",
        "56 78 {'weight': 1.2603236611106836}\n",
        "56 111 {'weight': 0.67182426681322172}\n",
        "56 178 {'weight': 0.61767478443057522}\n",
        "56 147 {'weight': 0.76825121162538756}\n",
        "56 158 {'weight': 1.5263726351935505}\n",
        "56 157 {'weight': 1.1972159688700197}\n",
        "56 127 {'weight': 0.67483111855011324}\n",
        "57 64 {'weight': 0.97677453298172656}\n",
        "57 67 {'weight': 0.87950319254005704}\n",
        "57 71 {'weight': 0.51572649140364446}\n",
        "57 76 {'weight': 0.52536353908030908}\n",
        "57 60 {'weight': 0.93849527205312522}\n",
        "57 170 {'weight': 1.2195740901777363}\n",
        "57 191 {'weight': 0.73337261439260704}\n",
        "58 193 {'weight': 0.65732100483878186}\n",
        "58 118 {'weight': 1.2180590738697088}\n",
        "58 168 {'weight': 0.5370900008888061}\n",
        "58 169 {'weight': 1.2126812556340543}\n",
        "58 106 {'weight': 1.1861073529760708}\n",
        "58 139 {'weight': 1.0284981186482014}\n",
        "58 190 {'weight': 1.5659046096592195}\n",
        "58 89 {'weight': 1.5085802098447014}\n",
        "58 153 {'weight': 1.1070214261153863}\n",
        "58 120 {'weight': 1.1785332770725885}\n",
        "58 185 {'weight': 1.0441400062563868}\n",
        "58 187 {'weight': 1.6151895136615366}\n",
        "58 126 {'weight': 0.60873281063976603}\n",
        "58 63 {'weight': 1.3141438291924685}\n",
        "59 128 {'weight': 0.93602673176707096}\n",
        "59 69 {'weight': 1.1744746703710482}\n",
        "59 167 {'weight': 1.1473861710428264}\n",
        "59 73 {'weight': 0.55634010598257244}\n",
        "59 80 {'weight': 0.73495333019599218}\n",
        "59 83 {'weight': 0.83637462543442798}\n",
        "59 117 {'weight': 0.68558140782900834}\n",
        "59 152 {'weight': 1.2898396491049451}\n",
        "59 122 {'weight': 1.2426126180848889}\n",
        "60 67 {'weight': 0.78405023640966731}\n",
        "60 71 {'weight': 0.71320379076487928}\n",
        "61 77 {'weight': 1.0149418087571065}\n",
        "61 174 {'weight': 1.0063287744703322}\n",
        "62 192 {'weight': 0.49901440821804005}\n",
        "62 96 {'weight': 0.9350159917893488}\n",
        "62 132 {'weight': 1.0394988913941601}\n",
        "62 198 {'weight': 1.3293566071708567}\n",
        "62 65 {'weight': 1.4538623253140055}\n",
        "62 107 {'weight': 0.61839792292036766}\n",
        "62 109 {'weight': 1.2166242016953521}\n",
        "62 110 {'weight': 1.3791158487836555}\n",
        "62 176 {'weight': 0.48845845922047421}\n",
        "62 113 {'weight': 0.60621668050618605}\n",
        "62 146 {'weight': 1.0063085090211821}\n",
        "62 86 {'weight': 1.1269848858058216}\n",
        "62 125 {'weight': 0.66248693541825032}\n",
        "62 101 {'weight': 1.6387426800220064}\n",
        "63 99 {'weight': 0.75742213425671656}\n",
        "63 118 {'weight': 0.75893212145846922}\n",
        "63 166 {'weight': 0.60882198945034272}\n",
        "63 193 {'weight': 1.5112140361431634}\n",
        "63 168 {'weight': 0.79364923669281306}\n",
        "63 153 {'weight': 1.2930041239560408}\n",
        "64 128 {'weight': 0.94499146960819735}\n",
        "64 116 {'weight': 1.2426558091653641}\n",
        "64 69 {'weight': 1.3984482115912116}\n",
        "64 167 {'weight': 0.91451246832192568}\n",
        "64 76 {'weight': 0.47942140102558295}\n",
        "64 77 {'weight': 1.4827873766216269}\n",
        "64 174 {'weight': 1.003015000420078}\n",
        "64 151 {'weight': 0.66212904370623848}\n",
        "64 152 {'weight': 1.0276284059540359}\n",
        "64 71 {'weight': 1.3869430705584065}\n",
        "64 170 {'weight': 0.52735322105002314}\n",
        "64 191 {'weight': 0.57733890287880063}\n",
        "65 96 {'weight': 1.0121755437953877}\n",
        "65 129 {'weight': 1.3207723638399895}\n",
        "65 98 {'weight': 0.77230980690787032}\n",
        "65 198 {'weight': 1.2641757190699949}\n",
        "65 161 {'weight': 1.333238360419061}\n",
        "65 194 {'weight': 0.83471113035000355}\n",
        "65 176 {'weight': 1.0046138525035035}\n",
        "65 113 {'weight': 1.1241710285857844}\n",
        "65 146 {'weight': 0.48527940906495548}\n",
        "65 86 {'weight': 0.69274001989942269}\n",
        "65 183 {'weight': 1.1301517421795944}\n",
        "65 91 {'weight': 1.2893702208687958}\n",
        "66 137 {'weight': 1.2147480894309357}\n",
        "66 111 {'weight': 1.3589351445782776}\n",
        "66 94 {'weight': 0.94686786958262215}\n",
        "66 79 {'weight': 1.2164024647131719}\n",
        "66 148 {'weight': 1.0926857490051232}\n",
        "66 158 {'weight': 0.4918949911019706}\n",
        "66 155 {'weight': 0.53423520840401906}\n",
        "66 124 {'weight': 1.0448939606175334}\n",
        "66 157 {'weight': 1.0029445153709666}\n",
        "67 76 {'weight': 1.187895610596138}\n",
        "68 137 {'weight': 1.5149670747684498}\n",
        "68 171 {'weight': 0.64991138426261419}\n",
        "68 140 {'weight': 0.92955973029853389}\n",
        "68 148 {'weight': 1.5219988521819383}\n",
        "68 157 {'weight': 1.0622823617225947}\n",
        "68 94 {'weight': 1.0994827289650309}\n",
        "68 127 {'weight': 1.1229477985715111}\n",
        "69 128 {'weight': 1.2293185780512057}\n",
        "69 162 {'weight': 0.8875636589485848}\n",
        "69 167 {'weight': 0.50328940637633435}\n",
        "69 73 {'weight': 0.74704294228884971}\n",
        "69 151 {'weight': 0.84278157697877876}\n",
        "69 170 {'weight': 1.4013851771881609}\n",
        "70 196 {'weight': 1.148299186431579}\n",
        "70 156 {'weight': 0.93269827739195099}\n",
        "70 142 {'weight': 0.78891258330908876}\n",
        "70 145 {'weight': 0.74131081235816387}\n",
        "70 114 {'weight': 1.1774942984271657}\n",
        "70 188 {'weight': 0.6740361084903902}\n",
        "71 76 {'weight': 0.99882372340761461}\n",
        "71 191 {'weight': 0.95524460468991623}\n",
        "72 193 {'weight': 1.2072936277678681}\n",
        "72 106 {'weight': 1.0858363902122454}\n",
        "72 139 {'weight': 0.64641466187629648}\n",
        "72 177 {'weight': 0.72134624186116192}\n",
        "72 84 {'weight': 0.79883829174599452}\n",
        "72 153 {'weight': 1.6074543618441353}\n",
        "72 90 {'weight': 0.91854184906620229}\n",
        "72 126 {'weight': 1.0541137305537966}\n",
        "73 128 {'weight': 1.1712121405419149}\n",
        "73 162 {'weight': 1.0648749246956475}\n",
        "73 167 {'weight': 0.94616635293540696}\n",
        "73 83 {'weight': 1.0255956445069871}\n",
        "73 117 {'weight': 1.1864193042702156}\n",
        "73 151 {'weight': 1.4313662919722441}\n",
        "73 122 {'weight': 1.0406677226528787}\n",
        "74 123 {'weight': 1.3086875960757838}\n",
        "74 197 {'weight': 1.3908115199787265}\n",
        "74 143 {'weight': 0.74290232554800906}\n",
        "75 104 {'weight': 0.56141297175590832}\n",
        "75 144 {'weight': 0.76136875372584711}\n",
        "75 179 {'weight': 0.47836628779450319}\n",
        "75 150 {'weight': 1.2921434966570302}\n",
        "75 155 {'weight': 1.0731822619897098}\n",
        "75 124 {'weight': 0.56126885917004288}\n",
        "75 158 {'weight': 1.2179072821876684}\n",
        "76 128 {'weight': 1.341819560946512}\n",
        "76 174 {'weight': 0.96341155583139326}\n",
        "76 151 {'weight': 1.0656155087322396}\n",
        "76 152 {'weight': 1.2829948483546976}\n",
        "76 170 {'weight': 0.86579166133478769}\n",
        "76 191 {'weight': 0.55500599398503636}\n",
        "77 102 {'weight': 0.87443407541658036}\n",
        "77 199 {'weight': 0.64105622838712828}\n",
        "77 174 {'weight': 0.57320432217906692}\n",
        "77 116 {'weight': 0.83673017667197147}\n",
        "77 151 {'weight': 1.1868949803807551}\n",
        "78 178 {'weight': 1.1815884046703224}\n",
        "78 147 {'weight': 1.124450750895545}\n",
        "79 148 {'weight': 0.58877144242070389}\n",
        "79 94 {'weight': 1.1268190193162249}\n",
        "80 128 {'weight': 0.67427715390120757}\n",
        "80 83 {'weight': 1.3712959145382999}\n",
        "80 167 {'weight': 1.3719349974525388}\n",
        "80 117 {'weight': 0.80187105187939478}\n",
        "80 152 {'weight': 0.74659359753739696}\n",
        "80 170 {'weight': 1.1030224621082916}\n",
        "81 133 {'weight': 0.64372991935116441}\n",
        "81 108 {'weight': 1.1287199449568202}\n",
        "81 131 {'weight': 1.0860281525984627}\n",
        "81 181 {'weight': 1.1472900600320131}\n",
        "81 189 {'weight': 0.64420242580733467}\n",
        "81 95 {'weight': 1.342445781799201}\n",
        "82 97 {'weight': 1.1395538245173704}\n",
        "82 100 {'weight': 1.0449540797884849}\n",
        "82 165 {'weight': 0.53611004477978419}\n",
        "82 105 {'weight': 1.0215441739369484}\n",
        "82 180 {'weight': 1.2457428650425253}\n",
        "82 119 {'weight': 0.4935311582213664}\n",
        "82 88 {'weight': 0.69626243646048736}\n",
        "82 121 {'weight': 1.1587231110505534}\n",
        "82 93 {'weight': 1.17213531237274}\n",
        "83 122 {'weight': 0.75692280535997825}\n",
        "83 117 {'weight': 0.68985245213567337}\n",
        "84 193 {'weight': 1.2065441085500941}\n",
        "84 163 {'weight': 0.69318843947715025}\n",
        "84 106 {'weight': 0.76165677341452453}\n",
        "84 139 {'weight': 0.94685411191766011}\n",
        "84 177 {'weight': 0.9000049044378351}\n",
        "84 153 {'weight': 1.2583784844437553}\n",
        "84 187 {'weight': 0.75716793497213508}\n",
        "85 108 {'weight': 0.97694887532691455}\n",
        "85 188 {'weight': 0.87828774569185064}\n",
        "86 96 {'weight': 1.2128788271039912}\n",
        "86 194 {'weight': 1.2286613157174333}\n",
        "86 132 {'weight': 0.94880831285718237}\n",
        "86 197 {'weight': 1.2639377269763032}\n",
        "86 134 {'weight': 1.3609697113007009}\n",
        "86 129 {'weight': 0.76500944665976633}\n",
        "86 107 {'weight': 1.3657880536458662}\n",
        "86 176 {'weight': 0.86721323269140027}\n",
        "86 113 {'weight': 0.58602099920508777}\n",
        "86 146 {'weight': 0.67783185399797841}\n",
        "86 98 {'weight': 1.390238781399018}\n",
        "86 192 {'weight': 1.4481253100144005}\n",
        "87 97 {'weight': 0.55281767627708556}\n",
        "87 173 {'weight': 0.64961283570957218}\n",
        "87 141 {'weight': 0.88943730577471825}\n",
        "87 88 {'weight': 1.1547558259444561}\n",
        "87 121 {'weight': 1.1480790560005116}\n",
        "88 97 {'weight': 0.81566283376467774}\n",
        "88 100 {'weight': 0.51893224633721291}\n",
        "88 114 {'weight': 1.3182434810172692}\n",
        "88 165 {'weight': 1.2310021278161034}\n",
        "88 95 {'weight': 1.2937512579128105}\n",
        "88 173 {'weight': 0.71805274922646023}\n",
        "88 145 {'weight': 1.2876305604164482}\n",
        "88 180 {'weight': 0.88809301713543021}\n",
        "88 196 {'weight': 0.97714135577914951}\n",
        "88 121 {'weight': 1.2447323282811718}\n",
        "88 119 {'weight': 0.67102219422177556}\n",
        "89 185 {'weight': 0.50261447281807392}\n",
        "89 190 {'weight': 0.70217681348965821}\n",
        "90 169 {'weight': 0.81837984652990148}\n",
        "90 139 {'weight': 1.1082850030752975}\n",
        "90 182 {'weight': 0.81599080656275202}\n",
        "90 126 {'weight': 1.2580711386176817}\n",
        "91 96 {'weight': 0.97863238194612745}\n",
        "91 198 {'weight': 0.6648602326684907}\n",
        "91 138 {'weight': 0.89483494270706643}\n",
        "91 176 {'weight': 1.4774468226916173}\n",
        "91 146 {'weight': 1.2083652885988525}\n",
        "92 112 {'weight': 0.92733751002832854}\n",
        "92 195 {'weight': 1.0306802591151123}\n",
        "92 184 {'weight': 1.2843252109411634}\n",
        "93 105 {'weight': 0.98626468440877157}\n",
        "93 164 {'weight': 0.99058611097551774}\n",
        "93 165 {'weight': 0.64524947132952626}\n",
        "94 137 {'weight': 1.244926912870409}\n",
        "94 171 {'weight': 0.46943870372229696}\n",
        "94 148 {'weight': 0.58565687848178172}\n",
        "94 158 {'weight': 1.2652561553326145}\n",
        "94 157 {'weight': 0.62942646147806824}\n",
        "94 127 {'weight': 1.278565499134932}\n",
        "95 196 {'weight': 0.79173603882078203}\n",
        "95 133 {'weight': 0.69968165969474816}\n",
        "95 145 {'weight': 1.1184050103132075}\n",
        "95 108 {'weight': 1.0710484738060471}\n",
        "95 114 {'weight': 0.58201838247843463}\n",
        "95 131 {'weight': 0.50222508493649121}\n",
        "95 180 {'weight': 0.40626705648366523}\n",
        "95 181 {'weight': 0.40804771190102707}\n",
        "95 119 {'weight': 1.1432670844187787}\n",
        "95 100 {'weight': 0.79901236518876506}\n",
        "95 189 {'weight': 1.0426849589533371}\n",
        "96 192 {'weight': 0.71962213124794294}\n",
        "96 198 {'weight': 0.43995882008045573}\n",
        "96 176 {'weight': 0.5324721705578972}\n",
        "96 113 {'weight': 1.1150592436336717}\n",
        "96 146 {'weight': 0.58561703701301104}\n",
        "97 100 {'weight': 1.2746577467770415}\n",
        "97 173 {'weight': 0.7324321075042165}\n",
        "97 121 {'weight': 0.68889676384727239}\n",
        "98 194 {'weight': 0.5058374693622546}\n",
        "98 161 {'weight': 1.057910017833378}\n",
        "98 146 {'weight': 1.2148529708995186}\n",
        "98 183 {'weight': 0.54834023184800984}\n",
        "98 186 {'weight': 1.1192668622255912}\n",
        "99 166 {'weight': 0.57818228600067534}\n",
        "99 135 {'weight': 1.0367223774470573}\n",
        "99 168 {'weight': 1.3765893347475997}\n",
        "99 172 {'weight': 0.94414535375769926}\n",
        "99 118 {'weight': 0.66378166654134574}\n",
        "99 153 {'weight': 1.222145929542128}\n",
        "100 131 {'weight': 1.1582211698919147}\n",
        "100 196 {'weight': 0.5453994120852026}\n",
        "100 114 {'weight': 0.81795366292691429}\n",
        "100 173 {'weight': 0.87107276972561953}\n",
        "100 145 {'weight': 0.9324646328274786}\n",
        "100 180 {'weight': 0.40881536390486634}\n",
        "100 181 {'weight': 1.1172261383715951}\n",
        "100 119 {'weight': 0.73922389950137601}\n",
        "101 192 {'weight': 1.2089207063762248}\n",
        "101 110 {'weight': 1.0618936742139822}\n",
        "102 199 {'weight': 0.78987559688205855}\n",
        "103 120 {'weight': 0.94838236716262136}\n",
        "103 169 {'weight': 1.1164076797591187}\n",
        "103 182 {'weight': 0.84884351220597321}\n",
        "104 144 {'weight': 0.77071299060059373}\n",
        "104 179 {'weight': 1.0382029317650698}\n",
        "104 155 {'weight': 1.151864492291623}\n",
        "104 124 {'weight': 0.91874022431607294}\n",
        "105 160 {'weight': 0.71197482021547309}\n",
        "105 131 {'weight': 1.2193372937884062}\n",
        "105 165 {'weight': 0.8921358139515837}\n",
        "105 180 {'weight': 1.3101113510563223}\n",
        "105 119 {'weight': 0.77972751933854301}\n",
        "106 193 {'weight': 0.53131724371572375}\n",
        "106 163 {'weight': 1.2790229973949849}\n",
        "106 139 {'weight': 0.68553131804233425}\n",
        "106 172 {'weight': 0.99929325149447401}\n",
        "106 118 {'weight': 1.1320309267484883}\n",
        "106 153 {'weight': 0.53871882418286443}\n",
        "106 187 {'weight': 0.48293324611265026}\n",
        "106 126 {'weight': 0.83798588359193604}\n",
        "107 192 {'weight': 1.0517864748287269}\n",
        "107 132 {'weight': 0.76594273201288687}\n",
        "107 109 {'weight': 0.66330751819947109}\n",
        "107 176 {'weight': 1.0574119162644182}\n",
        "107 113 {'weight': 0.7878178698861027}\n",
        "107 125 {'weight': 0.73273217538095659}\n",
        "108 181 {'weight': 0.66308477431565038}\n",
        "108 131 {'weight': 1.2876481088632561}\n",
        "108 133 {'weight': 0.84841929874233946}\n",
        "108 114 {'weight': 0.94148459946938723}\n",
        "108 196 {'weight': 1.3519116160366993}\n",
        "109 132 {'weight': 0.57252000566807237}\n",
        "109 113 {'weight': 1.0648272021623708}\n",
        "109 123 {'weight': 1.103746946688376}\n",
        "109 159 {'weight': 0.75875083984054825}\n",
        "110 192 {'weight': 1.2597682829061359}\n",
        "110 175 {'weight': 1.0100579094176039}\n",
        "110 125 {'weight': 0.72107530113185203}\n",
        "111 179 {'weight': 1.2125360216508556}\n",
        "111 137 {'weight': 0.53045985229808124}\n",
        "111 178 {'weight': 1.2890555155069299}\n",
        "111 147 {'weight': 0.64616157173221644}\n",
        "111 158 {'weight': 0.95179322857910009}\n",
        "111 150 {'weight': 1.5645329983797391}\n",
        "111 155 {'weight': 1.40999179600071}\n",
        "111 124 {'weight': 1.1727094572758656}\n",
        "111 157 {'weight': 1.1258615446368885}\n",
        "111 127 {'weight': 1.0010475617155117}\n",
        "112 115 {'weight': 0.97086984248827546}\n",
        "112 184 {'weight': 0.82839058609156513}\n",
        "112 190 {'weight': 0.6063931046732739}\n",
        "113 132 {'weight': 0.62575143353428431}\n",
        "113 197 {'weight': 1.509716704136796}\n",
        "113 129 {'weight': 1.0932064565349067}\n",
        "113 192 {'weight': 1.0380178978131469}\n",
        "113 176 {'weight': 0.59884794142237308}\n",
        "113 146 {'weight': 0.82707039298842977}\n",
        "113 125 {'weight': 1.2248772102662684}\n",
        "114 133 {'weight': 1.0740670316060965}\n",
        "114 173 {'weight': 1.3392042243499391}\n",
        "114 145 {'weight': 0.57854951449741543}\n",
        "114 131 {'weight': 1.0752270696572968}\n",
        "114 180 {'weight': 0.66233205017177565}\n",
        "114 181 {'weight': 0.53247569933784289}\n",
        "114 119 {'weight': 1.4545587292854045}\n",
        "114 196 {'weight': 0.4146708191070142}\n",
        "114 188 {'weight': 1.2728678530586055}\n",
        "114 189 {'weight': 1.5497716161521033}\n",
        "115 184 {'weight': 0.87441806721483117}\n",
        "115 190 {'weight': 0.73871998731287492}\n",
        "116 199 {'weight': 0.80760400502540808}\n",
        "116 174 {'weight': 0.95853298942738807}\n",
        "116 151 {'weight': 0.63902263360466538}\n",
        "116 167 {'weight': 0.93581139595455487}\n",
        "117 128 {'weight': 1.3689826168336914}\n",
        "118 193 {'weight': 1.0505093590844847}\n",
        "118 166 {'weight': 1.0560192560054082}\n",
        "118 168 {'weight': 0.92596526949790348}\n",
        "118 172 {'weight': 0.62287526353782285}\n",
        "118 153 {'weight': 0.59720998006963233}\n",
        "118 187 {'weight': 1.1865404137269226}\n",
        "119 165 {'weight': 0.83556627178009912}\n",
        "119 131 {'weight': 1.2009388715145186}\n",
        "119 180 {'weight': 0.81022092181403582}\n",
        "119 196 {'weight': 1.2741253681472706}\n",
        "120 193 {'weight': 1.6085239542167826}\n",
        "120 169 {'weight': 0.55361436394134689}\n",
        "120 185 {'weight': 0.7681109210857987}\n",
        "120 126 {'weight': 1.2402448794096441}\n",
        "121 165 {'weight': 1.3997993818673857}\n",
        "123 159 {'weight': 0.81615488793096158}\n",
        "124 137 {'weight': 1.4510684237873819}\n",
        "124 144 {'weight': 1.32260864353851}\n",
        "124 179 {'weight': 0.5541031450018975}\n",
        "124 155 {'weight': 0.62351992717743177}\n",
        "124 158 {'weight': 0.65809523733133124}\n",
        "125 192 {'weight': 0.68435970853818551}\n",
        "125 176 {'weight': 1.0987398722062409}\n",
        "126 193 {'weight': 0.42009114035308276}\n",
        "126 169 {'weight': 0.99085321984228014}\n",
        "126 139 {'weight': 0.4298894812224196}\n",
        "126 168 {'weight': 1.0889918030598067}\n",
        "126 153 {'weight': 1.0526129115842269}\n",
        "126 187 {'weight': 1.3204250964036464}\n",
        "127 137 {'weight': 0.53657557490045849}\n",
        "127 171 {'weight': 1.1895011327735807}\n",
        "127 158 {'weight': 1.4675638028383715}\n",
        "127 178 {'weight': 0.84015856226843322}\n",
        "127 147 {'weight': 1.3902887906167174}\n",
        "127 157 {'weight': 0.68554531777381245}\n",
        "128 136 {'weight': 1.2826743499453164}\n",
        "128 167 {'weight': 0.82424599426843448}\n",
        "128 151 {'weight': 1.0977347752960542}\n",
        "128 152 {'weight': 0.4668267569011309}\n",
        "128 170 {'weight': 0.48340167188398941}\n",
        "128 191 {'weight': 0.97956880613675257}\n",
        "129 132 {'weight': 0.96195972700119825}\n",
        "129 134 {'weight': 0.6823591305159471}\n",
        "129 143 {'weight': 1.1515613469331583}\n",
        "129 197 {'weight': 0.5038319073555747}\n",
        "130 160 {'weight': 1.0846804636248828}\n",
        "130 189 {'weight': 1.2284122038389862}\n",
        "131 160 {'weight': 1.4149461408824568}\n",
        "131 133 {'weight': 0.55273660404930058}\n",
        "131 180 {'weight': 0.75831669231628962}\n",
        "131 181 {'weight': 0.71478244222991394}\n",
        "131 196 {'weight': 1.2824074109278796}\n",
        "131 189 {'weight': 0.60499490884826435}\n",
        "132 197 {'weight': 1.1903897740603628}\n",
        "132 176 {'weight': 1.2109830511028603}\n",
        "132 159 {'weight': 1.3159572316624883}\n",
        "133 196 {'weight': 1.4190972785916514}\n",
        "133 180 {'weight': 1.0964048529280079}\n",
        "133 181 {'weight': 0.54733551255444757}\n",
        "133 189 {'weight': 0.55927253961449175}\n",
        "134 197 {'weight': 0.52817112340215766}\n",
        "134 161 {'weight': 1.2011479323948129}\n",
        "134 143 {'weight': 1.0022875644098905}\n",
        "134 154 {'weight': 1.4962612480229189}\n",
        "135 166 {'weight': 0.90408686578594544}\n",
        "136 152 {'weight': 0.81910293774033582}\n",
        "136 170 {'weight': 1.2068739708665699}\n",
        "136 191 {'weight': 1.1115115579598054}\n",
        "137 171 {'weight': 1.3532454359792703}\n",
        "137 158 {'weight': 0.98015345197373049}\n",
        "137 178 {'weight': 1.1316910434977121}\n",
        "137 147 {'weight': 1.083045841100603}\n",
        "137 155 {'weight': 1.4647020869883161}\n",
        "137 157 {'weight': 0.63604063030770608}\n",
        "138 183 {'weight': 0.93605955855557954}\n",
        "139 193 {'weight': 0.58368978799425852}\n",
        "139 169 {'weight': 1.1505534638724648}\n",
        "139 177 {'weight': 1.3315094780965318}\n",
        "139 153 {'weight': 1.1027180481514769}\n",
        "139 187 {'weight': 1.1360022132473375}\n",
        "140 171 {'weight': 1.147584607508237}\n",
        "142 196 {'weight': 1.3916790534921626}\n",
        "142 173 {'weight': 1.2038046233518063}\n",
        "142 145 {'weight': 1.0527898372550415}\n",
        "143 197 {'weight': 0.66062560832795814}\n",
        "144 179 {'weight': 1.0670055900016413}\n",
        "145 173 {'weight': 0.99644404052579771}\n",
        "145 180 {'weight': 1.0274174015751663}\n",
        "145 181 {'weight': 1.1052669089659453}\n",
        "145 196 {'weight': 0.40981075633885489}\n",
        "145 188 {'weight': 1.1272304137190026}\n",
        "146 198 {'weight': 0.94071952505350975}\n",
        "146 194 {'weight': 1.3185039867163515}\n",
        "146 176 {'weight': 0.53232261348849275}\n",
        "146 192 {'weight': 1.078898123686469}\n",
        "147 178 {'weight': 1.2587104870672481}\n",
        "148 171 {'weight': 0.88554412986857667}\n",
        "148 158 {'weight': 1.5447591080041796}\n",
        "148 157 {'weight': 1.202856793835553}\n",
        "150 179 {'weight': 0.9345394206876374}\n",
        "151 167 {'weight': 0.49332602707347167}\n",
        "151 174 {'weight': 0.95149356064254065}\n",
        "151 152 {'weight': 1.4091715266803269}\n",
        "151 170 {'weight': 0.94136147775560663}\n",
        "151 199 {'weight': 1.4047138418182037}\n",
        "151 191 {'weight': 1.2208222505061967}\n",
        "152 167 {'weight': 1.2456326663559536}\n",
        "152 170 {'weight': 0.50852630693187617}\n",
        "152 191 {'weight': 0.78045254623627947}\n",
        "153 193 {'weight': 0.63279465241503507}\n",
        "153 166 {'weight': 1.653188867023174}\n",
        "153 168 {'weight': 1.0974923959013121}\n",
        "153 172 {'weight': 0.5834016094239165}\n",
        "153 163 {'weight': 1.638004101470536}\n",
        "153 187 {'weight': 0.65395951784627671}\n",
        "154 161 {'weight': 0.93345556287838249}\n",
        "155 179 {'weight': 1.1776081888571794}\n",
        "155 158 {'weight': 0.48728239815935998}\n",
        "156 188 {'weight': 1.0317003561391187}\n",
        "157 171 {'weight': 0.7351615997612807}\n",
        "157 158 {'weight': 1.0556912370219587}\n",
        "158 179 {'weight': 1.1199528201506859}\n",
        "160 164 {'weight': 0.854152670377755}\n",
        "161 194 {'weight': 0.57883007399242503}\n",
        "161 186 {'weight': 0.73251054086034983}\n",
        "163 177 {'weight': 1.2190810768035227}\n",
        "163 187 {'weight': 0.98961975171487515}\n",
        "167 170 {'weight': 0.90751253491980655}\n",
        "167 191 {'weight': 1.3513572848702007}\n",
        "168 193 {'weight': 0.95146208999829684}\n",
        "169 193 {'weight': 1.4085087389661293}\n",
        "169 182 {'weight': 0.76922465095608983}\n",
        "170 191 {'weight': 0.5204304401396378}\n",
        "172 193 {'weight': 1.2161538815329074}\n",
        "172 187 {'weight': 0.7913869620098658}\n",
        "173 180 {'weight': 1.260201323050796}\n",
        "173 196 {'weight': 0.92497656442943443}\n",
        "174 199 {'weight': 1.1676589958142893}\n",
        "176 198 {'weight': 0.96934764133121232}\n",
        "176 192 {'weight': 0.59661925743216548}\n",
        "180 181 {'weight': 0.77502764019430481}\n",
        "180 196 {'weight': 0.62586072862476194}\n",
        "180 189 {'weight': 1.3583069803379269}\n",
        "181 196 {'weight': 0.90780270790618878}\n",
        "181 189 {'weight': 1.060940451979703}\n",
        "183 194 {'weight': 1.0449582942974602}\n",
        "184 195 {'weight': 1.1358000410758997}\n",
        "185 190 {'weight': 0.93106205212563442}\n",
        "186 194 {'weight': 0.90819726847865556}\n",
        "187 193 {'weight': 0.98397565270675791}\n",
        "192 198 {'weight': 0.99631546184114483}\n"
       ]
      }
     ],
     "prompt_number": 155
    },
    {
     "cell_type": "code",
     "collapsed": false,
     "input": [
      "# replace adj as desired"
     ],
     "language": "python",
     "metadata": {},
     "outputs": [],
     "prompt_number": 130
    },
    {
     "cell_type": "code",
     "collapsed": false,
     "input": [
      "w = 1/(distmat)\n",
      "w"
     ],
     "language": "python",
     "metadata": {},
     "outputs": [
      {
       "metadata": {},
       "output_type": "pyout",
       "prompt_number": 53,
       "text": [
        "array([[        inf,  0.08159144,  0.09236838, ...,  0.39128011,\n",
        "         0.3966579 ,  0.12500569],\n",
        "       [ 0.08159144,         inf,  0.31449429, ...,  0.08738769,\n",
        "         0.10266771,  0.16143097],\n",
        "       [ 0.09236838,  0.31449429,         inf, ...,  0.09366613,\n",
        "         0.11955155,  0.29057512],\n",
        "       ..., \n",
        "       [ 0.39128011,  0.08738769,  0.09366613, ...,         inf,\n",
        "         0.3481389 ,  0.11791671],\n",
        "       [ 0.3966579 ,  0.10266771,  0.11955155, ...,  0.3481389 ,\n",
        "                inf,  0.1734665 ],\n",
        "       [ 0.12500569,  0.16143097,  0.29057512, ...,  0.11791671,\n",
        "         0.1734665 ,         inf]])"
       ]
      }
     ],
     "prompt_number": 53
    },
    {
     "cell_type": "code",
     "collapsed": false,
     "input": [
      "w*adj"
     ],
     "language": "python",
     "metadata": {},
     "outputs": [
      {
       "metadata": {},
       "output_type": "pyout",
       "prompt_number": 54,
       "text": [
        "array([[ inf,   0.,   0., ...,   0.,   0.,   0.],\n",
        "       [  0.,  inf,   0., ...,   0.,   0.,   0.],\n",
        "       [  0.,   0.,  inf, ...,   0.,   0.,   0.],\n",
        "       ..., \n",
        "       [  0.,   0.,   0., ...,  inf,   0.,   0.],\n",
        "       [  0.,   0.,   0., ...,   0.,  inf,   0.],\n",
        "       [  0.,   0.,   0., ...,   0.,   0.,  inf]])"
       ]
      }
     ],
     "prompt_number": 54
    },
    {
     "cell_type": "code",
     "collapsed": false,
     "input": [
      "w[w==np.inf]=0"
     ],
     "language": "python",
     "metadata": {},
     "outputs": [],
     "prompt_number": 55
    },
    {
     "cell_type": "code",
     "collapsed": false,
     "input": [
      "w"
     ],
     "language": "python",
     "metadata": {},
     "outputs": [
      {
       "metadata": {},
       "output_type": "pyout",
       "prompt_number": 56,
       "text": [
        "array([[ 0.        ,  0.08159144,  0.09236838, ...,  0.39128011,\n",
        "         0.3966579 ,  0.12500569],\n",
        "       [ 0.08159144,  0.        ,  0.31449429, ...,  0.08738769,\n",
        "         0.10266771,  0.16143097],\n",
        "       [ 0.09236838,  0.31449429,  0.        , ...,  0.09366613,\n",
        "         0.11955155,  0.29057512],\n",
        "       ..., \n",
        "       [ 0.39128011,  0.08738769,  0.09366613, ...,  0.        ,\n",
        "         0.3481389 ,  0.11791671],\n",
        "       [ 0.3966579 ,  0.10266771,  0.11955155, ...,  0.3481389 ,\n",
        "         0.        ,  0.1734665 ],\n",
        "       [ 0.12500569,  0.16143097,  0.29057512, ...,  0.11791671,\n",
        "         0.1734665 ,  0.        ]])"
       ]
      }
     ],
     "prompt_number": 56
    },
    {
     "cell_type": "code",
     "collapsed": false,
     "input": [
      "weighted_adj_mat = w*adj"
     ],
     "language": "python",
     "metadata": {},
     "outputs": [],
     "prompt_number": 57
    },
    {
     "cell_type": "code",
     "collapsed": false,
     "input": [
      "# compute density cluster"
     ],
     "language": "python",
     "metadata": {},
     "outputs": [],
     "prompt_number": 58
    },
    {
     "cell_type": "code",
     "collapsed": false,
     "input": [
      "import networkx as nx"
     ],
     "language": "python",
     "metadata": {},
     "outputs": [
      {
       "output_type": "stream",
       "stream": "stdout",
       "text": [
        "Couldn't import dot_parser, loading of dot files will not be possible.\n"
       ]
      }
     ],
     "prompt_number": 59
    },
    {
     "cell_type": "code",
     "collapsed": false,
     "input": [
      "G = nx.Graph(weighted_adj_mat)"
     ],
     "language": "python",
     "metadata": {},
     "outputs": [],
     "prompt_number": 60
    },
    {
     "cell_type": "code",
     "collapsed": false,
     "input": [
      "pos = nx.graphviz_layout(G)"
     ],
     "language": "python",
     "metadata": {},
     "outputs": [],
     "prompt_number": 156
    },
    {
     "cell_type": "code",
     "collapsed": false,
     "input": [
      "positions = np.array(pos.values())"
     ],
     "language": "python",
     "metadata": {},
     "outputs": [],
     "prompt_number": 157
    },
    {
     "cell_type": "code",
     "collapsed": false,
     "input": [
      "density.shape,positions.shape"
     ],
     "language": "python",
     "metadata": {},
     "outputs": [
      {
       "metadata": {},
       "output_type": "pyout",
       "prompt_number": 158,
       "text": [
        "((5000,), (200, 2))"
       ]
      }
     ],
     "prompt_number": 158
    },
    {
     "cell_type": "code",
     "collapsed": false,
     "input": [],
     "language": "python",
     "metadata": {},
     "outputs": [],
     "prompt_number": 158
    },
    {
     "cell_type": "code",
     "collapsed": false,
     "input": [
      "pl.scatter(positions[:,0],positions[:,1])"
     ],
     "language": "python",
     "metadata": {},
     "outputs": [
      {
       "metadata": {},
       "output_type": "pyout",
       "prompt_number": 159,
       "text": [
        "<matplotlib.collections.PathCollection at 0x119d9f710>"
       ]
      },
      {
       "metadata": {},
       "output_type": "display_data",
       "png": "[encoded data removed]",
       "text": [
        "<matplotlib.figure.Figure at 0x11a0e1a10>"
       ]
      }
     ],
     "prompt_number": 159
    },
    {
     "cell_type": "code",
     "collapsed": false,
     "input": [
      "nx.draw(G,pos=positions)"
     ],
     "language": "python",
     "metadata": {},
     "outputs": [
      {
       "metadata": {},
       "output_type": "display_data",
       "png": "[encoded data removed]",
       "text": [
        "<matplotlib.figure.Figure at 0x119d9f350>"
       ]
      }
     ],
     "prompt_number": 161
    },
    {
     "cell_type": "code",
     "collapsed": false,
     "input": [
      "nx.draw_networkx_edges(G,pos=positions)"
     ],
     "language": "python",
     "metadata": {},
     "outputs": [
      {
       "metadata": {},
       "output_type": "pyout",
       "prompt_number": 162,
       "text": [
        "<matplotlib.collections.LineCollection at 0x11a0d0ad0>"
       ]
      },
      {
       "metadata": {},
       "output_type": "display_data",
       "png": "[encoded data removed]",
       "text": [
        "<matplotlib.figure.Figure at 0x119df8b50>"
       ]
      }
     ],
     "prompt_number": 162
    },
    {
     "cell_type": "code",
     "collapsed": false,
     "input": [
      "# compute r"
     ],
     "language": "python",
     "metadata": {},
     "outputs": []
    },
    {
     "cell_type": "code",
     "collapsed": false,
     "input": [],
     "language": "python",
     "metadata": {},
     "outputs": []
    },
    {
     "cell_type": "code",
     "collapsed": false,
     "input": [
      "class FlowMap():\n",
      "    "
     ],
     "language": "python",
     "metadata": {},
     "outputs": []
    }
   ],
   "metadata": {}
  }
 ]
}