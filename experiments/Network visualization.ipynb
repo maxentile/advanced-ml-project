{
 "metadata": {
  "name": "",
  "signature": "sha256:af3c23745e3348733eb26d37022d672722b798d3c152e5604c30a214b9fdebe7"
 },
 "nbformat": 3,
 "nbformat_minor": 0,
 "worksheets": [
  {
   "cells": [
    {
     "cell_type": "markdown",
     "metadata": {},
     "source": [
      "BioFabric http://www.biomedcentral.com/content/pdf/1471-2105-13-275.pdf\n",
      "\n",
      "\n",
      "Krzwinski - Hive Plots\n",
      "\n",
      "Network decomposition"
     ]
    },
    {
     "cell_type": "code",
     "collapsed": false,
     "input": [],
     "language": "python",
     "metadata": {},
     "outputs": []
    }
   ],
   "metadata": {}
  }
 ]
}